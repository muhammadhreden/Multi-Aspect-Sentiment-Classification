{
  "cells": [
    {
      "cell_type": "markdown",
      "metadata": {
        "id": "t57Kwd0fUSfw"
      },
      "source": [
        "# Import Library"
      ]
    },
    {
      "cell_type": "code",
      "execution_count": 2,
      "metadata": {
        "colab": {
          "base_uri": "https://localhost:8080/"
        },
        "id": "FR0XXQ0EUhCg",
        "outputId": "45f484a0-e108-4eaf-ba15-caa0b23f97b0"
      },
      "outputs": [
        {
          "output_type": "stream",
          "name": "stdout",
          "text": [
            "Mounted at /content/drive\n"
          ]
        }
      ],
      "source": [
        "from google.colab import drive\n",
        "drive.mount('/content/drive')"
      ]
    },
    {
      "cell_type": "code",
      "execution_count": 3,
      "metadata": {
        "id": "dAACdJyYUSf1"
      },
      "outputs": [],
      "source": [
        "import warnings\n",
        "warnings.filterwarnings('ignore')"
      ]
    },
    {
      "cell_type": "code",
      "execution_count": 4,
      "metadata": {
        "colab": {
          "base_uri": "https://localhost:8080/"
        },
        "id": "9tRSStREUSf3",
        "outputId": "3e772472-1fdc-41da-fe06-56b12b4a951a"
      },
      "outputs": [
        {
          "output_type": "stream",
          "name": "stdout",
          "text": [
            "Requirement already satisfied: nltk in /usr/local/lib/python3.10/dist-packages (3.8.1)\n",
            "Requirement already satisfied: click in /usr/local/lib/python3.10/dist-packages (from nltk) (8.1.7)\n",
            "Requirement already satisfied: joblib in /usr/local/lib/python3.10/dist-packages (from nltk) (1.3.2)\n",
            "Requirement already satisfied: regex>=2021.8.3 in /usr/local/lib/python3.10/dist-packages (from nltk) (2023.6.3)\n",
            "Requirement already satisfied: tqdm in /usr/local/lib/python3.10/dist-packages (from nltk) (4.66.1)\n"
          ]
        }
      ],
      "source": [
        "!pip install nltk"
      ]
    },
    {
      "cell_type": "code",
      "execution_count": 5,
      "metadata": {
        "colab": {
          "base_uri": "https://localhost:8080/"
        },
        "id": "snpphW40USf6",
        "outputId": "19cd14ef-690d-4d35-cf86-7d5933419238"
      },
      "outputs": [
        {
          "output_type": "stream",
          "name": "stderr",
          "text": [
            "[nltk_data] Downloading package wordnet to /root/nltk_data...\n",
            "[nltk_data] Downloading package punkt to /root/nltk_data...\n",
            "[nltk_data]   Unzipping tokenizers/punkt.zip.\n",
            "[nltk_data] Downloading package stopwords to /root/nltk_data...\n",
            "[nltk_data]   Unzipping corpora/stopwords.zip.\n"
          ]
        },
        {
          "output_type": "execute_result",
          "data": {
            "text/plain": [
              "True"
            ]
          },
          "metadata": {},
          "execution_count": 5
        }
      ],
      "source": [
        "import nltk\n",
        "nltk.download('wordnet')\n",
        "nltk.download('punkt')\n",
        "nltk.download('stopwords')"
      ]
    },
    {
      "cell_type": "code",
      "execution_count": 6,
      "metadata": {
        "colab": {
          "base_uri": "https://localhost:8080/"
        },
        "id": "lETW2IDnUSf7",
        "outputId": "c2f61047-36ac-49f1-eeae-8cf4006fe6db"
      },
      "outputs": [
        {
          "output_type": "stream",
          "name": "stdout",
          "text": [
            "Collecting senticnet\n",
            "  Downloading senticnet-1.6-py3-none-any.whl (51.9 MB)\n",
            "\u001b[2K     \u001b[90m━━━━━━━━━━━━━━━━━━━━━━━━━━━━━━━━━━━━━━━━\u001b[0m \u001b[32m51.9/51.9 MB\u001b[0m \u001b[31m5.7 MB/s\u001b[0m eta \u001b[36m0:00:00\u001b[0m\n",
            "\u001b[?25hInstalling collected packages: senticnet\n",
            "Successfully installed senticnet-1.6\n"
          ]
        }
      ],
      "source": [
        "!pip install senticnet"
      ]
    },
    {
      "cell_type": "code",
      "execution_count": 7,
      "metadata": {
        "id": "THB7bANDUSf7"
      },
      "outputs": [],
      "source": [
        "import numpy as np\n",
        "import csv\n",
        "import pandas as pd\n",
        "import spacy\n",
        "import re\n",
        "from tqdm import tqdm\n",
        "from nltk.tokenize import word_tokenize\n",
        "from nltk.corpus import stopwords\n",
        "from nltk.stem import WordNetLemmatizer\n",
        "from senticnet.senticnet import SenticNet\n",
        "from nltk.stem import PorterStemmer\n",
        "from sklearn import preprocessing\n",
        "import matplotlib.pyplot as plt\n",
        "import csv\n",
        "import string\n",
        "nlp = spacy.load('en_core_web_sm')"
      ]
    },
    {
      "cell_type": "code",
      "execution_count": 7,
      "metadata": {
        "colab": {
          "base_uri": "https://localhost:8080/"
        },
        "id": "nt8CKDq4USf8",
        "outputId": "afe046a1-0e6e-40a5-8073-edbfebc0e408"
      },
      "outputs": [
        {
          "output_type": "stream",
          "name": "stdout",
          "text": [
            "Sentiment information for 'love': 0.897\n"
          ]
        }
      ],
      "source": [
        "# Create an instance of SenticNet\n",
        "sn = SenticNet()\n",
        "\n",
        "# Get sentiment information for a word\n",
        "word = \"love\"\n",
        "sentiment_info = sn.sentics(word)\n",
        "\n",
        "# Print the sentiment information\n",
        "print(f\"Sentiment information for '{word}': {sentiment_info['introspection']}\")\n"
      ]
    },
    {
      "cell_type": "markdown",
      "metadata": {
        "id": "f9nR3jAVUSf8"
      },
      "source": [
        "# Read Review\n",
        "\n",
        "\n",
        "> **Attributes:**\n",
        "\n",
        "* chunk_size (int): The size of each chunk when reading the CSV file.\n",
        "\n",
        "* chunks (pd.DataFrame): The concatenated DataFrame from reading CSV chunks.\n",
        "    \n",
        "* df_data (pd.DataFrame): The final DataFrame after dropping NaN values.\n",
        "\n"
      ]
    },
    {
      "cell_type": "code",
      "execution_count": 10,
      "metadata": {
        "colab": {
          "base_uri": "https://localhost:8080/"
        },
        "id": "96YNIXSlQi6T",
        "outputId": "13861697-08e1-4901-fb41-8c1e935e8c27"
      },
      "outputs": [
        {
          "output_type": "stream",
          "name": "stdout",
          "text": [
            "                                         Review Text\n",
            "0  What you learn in the course is very basic. Th...\n",
            "1  Too fast, the English is not clear, strong acc...\n",
            "2  The instructor did not really do a good enough...\n",
            "3  it's ok for understanding the basics. It distr...\n",
            "4  The training was great. The instructor was kno...\n",
            "478775\n"
          ]
        }
      ],
      "source": [
        "chunk_size = 1000  # Adjust the size as needed\n",
        "chunks = pd.read_csv('/content/drive/MyDrive/ASC/0-1000 Courses.csv', chunksize=chunk_size)\n",
        "df_data = pd.concat(chunks)\n",
        "df_data = df_data.dropna()\n",
        "\n",
        "print(df_data.head())\n",
        "print(len(df_data))"
      ]
    },
    {
      "cell_type": "markdown",
      "source": [
        "\n",
        "\n",
        "---\n",
        "\n",
        "\n",
        "# Preprocessing Module.\n",
        "\n",
        "\n",
        "\n",
        "\n",
        "> This module provides functions for preprocessing text reviews. The preprocessin steps include removing mentions, converting to lowercase, handling repeated letters, merging numbers, removing punctuation, removing single-letter words, removing stop words, stemming, lemmatization, and merging specific terms related to aspects such as 'teacher' and 'course'.\n",
        "\n",
        "\n",
        "\n",
        "\n",
        "# Attributes:\n",
        "\n",
        "*  aspect_1 (list) : List of terms related to the 'teacher' aspect.\n",
        "\n",
        "*  aspect_2 (list) : List of terms related to the 'course' aspect.\n",
        "\n",
        "# Functions:\n",
        "\n",
        "* delete_mention: Remove mentions and URLs from a review.\n",
        "\n",
        "* lower_case_letters: Convert a review to lowercase.\n",
        "\n",
        "* delete_repeated_letters: Remove repeated letters in a review.\n",
        "\n",
        "* merge_num: Merge numerical values in a review.\n",
        "\n",
        "* delete_punctuation: Remove punctuation from a review.\n",
        "\n",
        "* remove_single_letter_words: Remove single-letter words from a review.\n",
        "\n",
        "* delete_stop_words: Remove stop words from a review.\n",
        "\n",
        "* stem: Apply stemming to a review.\n",
        "\n",
        "* lemma: Apply lemmatization to a review.\n",
        "\n",
        "* merge: Merge specific terms in a review based on provided aspects.\n",
        "\n",
        "* preprocess_review: Perform a series of preprocessing steps on a review.\n",
        "\n",
        "# Todo:\n",
        "\n",
        "* Add more detailed examples in the docstrings.\n",
        "\n",
        "* Explore additional preprocessing techniques."
      ],
      "metadata": {
        "id": "GLlDobZA2oKa"
      }
    },
    {
      "cell_type": "code",
      "execution_count": 11,
      "metadata": {
        "id": "YnsBHX_KUSf_"
      },
      "outputs": [],
      "source": [
        "def delete_mention(review, mention_on=True):\n",
        "    \"\"\"Remove mentions and URLs from a review.\"\"\"\n",
        "    if mention_on:\n",
        "        review = re.sub(r\"@\\S+\", '', review)\n",
        "        review = re.sub(r'https?\\S+', '', review)\n",
        "    return review\n",
        "\n",
        "def lower_case_letters(review, lowercase_on=True):\n",
        "    \"\"\"Convert a review to lowercase.\"\"\"\n",
        "    if lowercase_on:\n",
        "        review = word_tokenize(review.lower())\n",
        "    return ' '.join(review)\n",
        "\n",
        "def delete_repeated_letters(review, repeated_on=True):\n",
        "    \"\"\"Remove repeated letters in a review.\"\"\"\n",
        "    if repeated_on:\n",
        "        review = re.sub(r'(.)\\1{2,}', r'\\1', review)\n",
        "    return review\n",
        "\n",
        "def merge_num(review, merge_num_on=True):\n",
        "    \"\"\"Merge numerical values in a review.\"\"\"\n",
        "    if merge_num_on:\n",
        "        review = re.sub(r\"[0-9]+(\\.)?[0-9]+\", \"1\", review)\n",
        "    return review\n",
        "\n",
        "def delete_punctuation(review, punctuation_on=True):\n",
        "    \"\"\"Remove punctuation from a review.\"\"\"\n",
        "    if punctuation_on:\n",
        "        review = re.sub(r'[,:;!-\\./(){}[]|؟]', ' ', review)\n",
        "    return review\n",
        "\n",
        "def remove_single_letter_words(review, remove_single_on=True):\n",
        "    \"\"\"Remove single-letter words from a review.\"\"\"\n",
        "    if remove_single_on:\n",
        "        pattern = r'\\b[a-hj-z]\\b'\n",
        "        review = re.sub(pattern, '', review)\n",
        "    return review\n",
        "\n",
        "def delete_stop_words(review, stop_words_on=True):\n",
        "    if stop_words_on:\n",
        "        stop_words = set(stopwords.words('english'))\n",
        "        tokenizer = nltk.tokenize.RegexpTokenizer(r'\\w+')\n",
        "        tokens = tokenizer.tokenize(review)\n",
        "        filtered_tokens = [word for word in tokens if word.lower() not in stop_words]\n",
        "        return ' '.join(filtered_tokens)\n",
        "    return review\n",
        "\n",
        "def stem(review, stem_on=True):\n",
        "    if stem_on:\n",
        "        porter = PorterStemmer()\n",
        "        review = word_tokenize(review)\n",
        "        review = [porter.stem(word) for word in review]\n",
        "        return ' '.join(review)\n",
        "    return review\n",
        "\n",
        "def lemma(review, lemma_on=True):\n",
        "    if lemma_on:\n",
        "        lemmatizer = WordNetLemmatizer()\n",
        "        review = word_tokenize(review)\n",
        "        review = [lemmatizer.lemmatize(word) for word in review]\n",
        "        return ' '.join(review)\n",
        "    return review\n",
        "\n",
        "def merge(review, aspects, aspect, merge_on=True):\n",
        "    if merge_on:\n",
        "        pattern = re.compile(r'\\b(?:' + '|'.join(map(re.escape, aspects)) + r')\\b', re.IGNORECASE)\n",
        "        merged_review = pattern.sub(aspect, review)\n",
        "        return merged_review\n",
        "    return review\n",
        "\n",
        "def preprocess_review(review, mention_on=True, lowercase_on=True, repeated_on=True,\n",
        "                       merge_num_on=True, punctuation_on=True, remove_single_on=True,\n",
        "                       stop_words_on=True, stem_on=False, lemma_on=True):\n",
        "\n",
        "    \"\"\"Perform a series of preprocessing steps on a review.\n",
        "\n",
        "    Args:\n",
        "        review (str): The input text review.\n",
        "        mention_on (bool): Whether to remove mentions and URLs.\n",
        "        lowercase_on (bool): Whether to convert to lowercase.\n",
        "        repeated_on (bool): Whether to handle repeated letters.\n",
        "        merge_num_on (bool): Whether to merge numerical values.\n",
        "        punctuation_on (bool): Whether to remove punctuation.\n",
        "        remove_single_on (bool): Whether to remove single-letter words.\n",
        "        stop_words_on (bool): Whether to remove stop words.\n",
        "        stem_on (bool): Whether to apply stemming.\n",
        "        lemma_on (bool): Whether to apply lemmatization.\n",
        "\n",
        "    Returns:\n",
        "        str: The preprocessed review.\n",
        "\n",
        "    \"\"\"\n",
        "    aspect_1 = [\"teacher\", \"teachers\", \"instructor\", \"instructors\", \"professors\", \"professor\", \"lecturer\", \"profs\",\n",
        "                \"prof\", 'educator', 'tutor', 'tutors', 'mentor', 'mentors', 'coach', 'coaches', 'guide', 'guides',\n",
        "                'facilitator', 'facilitators', 'pedagogue', 'pedagogues', 'schoolmaster', 'schoolmasters',\n",
        "                'schoolmistress', 'preceptor', 'preceptors', 'academic', 'academics', 'trainer', 'trainers',\n",
        "                'counsellor', 'counsellors', 'adviser', 'advisers', 'pedagogist', 'pedagogists', 'didactic', 'master']\n",
        "\n",
        "    aspect_2 = [\"class\", \"courses\", \"course\", \"materials\", \"material\", \"syllabus\", \"homeworks\", \"exercise\", \"exercises\",\n",
        "                'program', 'module', 'lecture', 'seminar', 'workshop', 'curriculum', 'subject', 'training', 'session',\n",
        "                'Sections', 'Section', 'lesson', 'unit', 'elective', 'tutorial', 'education', 'Path', 'track', 'programs',\n",
        "                'modules', 'lectures', 'seminars', 'workshops', 'Curricula', 'subjects', 'trainings', 'sessions',\n",
        "                'lessons', 'units', 'electives', 'tutorials', 'workshops', 'educations', 'Paths', 'tracks']\n",
        "\n",
        "    review = lower_case_letters(review, lowercase_on)\n",
        "    review = delete_stop_words(review, stop_words_on)\n",
        "    review = delete_punctuation(review, punctuation_on)\n",
        "    review = delete_repeated_letters(review, repeated_on)\n",
        "    review = delete_mention(review, mention_on)\n",
        "    review = merge_num(review, merge_num_on)\n",
        "    review = remove_single_letter_words(review, remove_single_on)\n",
        "    review = merge(review, aspect_1, 'teacher')\n",
        "    review = merge(review, aspect_2, 'course')\n",
        "    review = lemma(review, lemma_on)\n",
        "\n",
        "    return review\n"
      ]
    },
    {
      "cell_type": "code",
      "execution_count": 12,
      "metadata": {
        "colab": {
          "base_uri": "https://localhost:8080/",
          "height": 225
        },
        "id": "to2AaZ6DUSgB",
        "outputId": "19f68374-65bc-49ab-b01d-296302f9e879"
      },
      "outputs": [
        {
          "output_type": "stream",
          "name": "stdout",
          "text": [
            "478775\n"
          ]
        },
        {
          "output_type": "execute_result",
          "data": {
            "text/plain": [
              "                                         Review Text  \\\n",
              "0  What you learn in the course is very basic. Th...   \n",
              "1  Too fast, the English is not clear, strong acc...   \n",
              "2  The instructor did not really do a good enough...   \n",
              "3  it's ok for understanding the basics. It distr...   \n",
              "4  The training was great. The instructor was kno...   \n",
              "\n",
              "                                    Processed Review  \n",
              "0  what you learn in the course is very basic . t...  \n",
              "1  too fast , the english is not clear , strong a...  \n",
              "2  the teacher did not really do a good enough jo...  \n",
              "3  it 's ok for understanding the basic . it dist...  \n",
              "4  the course wa great . the teacher wa knowledge...  "
            ],
            "text/html": [
              "\n",
              "  <div id=\"df-a14928a8-69f9-48f0-95a9-27cf4c30a6a5\" class=\"colab-df-container\">\n",
              "    <div>\n",
              "<style scoped>\n",
              "    .dataframe tbody tr th:only-of-type {\n",
              "        vertical-align: middle;\n",
              "    }\n",
              "\n",
              "    .dataframe tbody tr th {\n",
              "        vertical-align: top;\n",
              "    }\n",
              "\n",
              "    .dataframe thead th {\n",
              "        text-align: right;\n",
              "    }\n",
              "</style>\n",
              "<table border=\"1\" class=\"dataframe\">\n",
              "  <thead>\n",
              "    <tr style=\"text-align: right;\">\n",
              "      <th></th>\n",
              "      <th>Review Text</th>\n",
              "      <th>Processed Review</th>\n",
              "    </tr>\n",
              "  </thead>\n",
              "  <tbody>\n",
              "    <tr>\n",
              "      <th>0</th>\n",
              "      <td>What you learn in the course is very basic. Th...</td>\n",
              "      <td>what you learn in the course is very basic . t...</td>\n",
              "    </tr>\n",
              "    <tr>\n",
              "      <th>1</th>\n",
              "      <td>Too fast, the English is not clear, strong acc...</td>\n",
              "      <td>too fast , the english is not clear , strong a...</td>\n",
              "    </tr>\n",
              "    <tr>\n",
              "      <th>2</th>\n",
              "      <td>The instructor did not really do a good enough...</td>\n",
              "      <td>the teacher did not really do a good enough jo...</td>\n",
              "    </tr>\n",
              "    <tr>\n",
              "      <th>3</th>\n",
              "      <td>it's ok for understanding the basics. It distr...</td>\n",
              "      <td>it 's ok for understanding the basic . it dist...</td>\n",
              "    </tr>\n",
              "    <tr>\n",
              "      <th>4</th>\n",
              "      <td>The training was great. The instructor was kno...</td>\n",
              "      <td>the course wa great . the teacher wa knowledge...</td>\n",
              "    </tr>\n",
              "  </tbody>\n",
              "</table>\n",
              "</div>\n",
              "    <div class=\"colab-df-buttons\">\n",
              "\n",
              "  <div class=\"colab-df-container\">\n",
              "    <button class=\"colab-df-convert\" onclick=\"convertToInteractive('df-a14928a8-69f9-48f0-95a9-27cf4c30a6a5')\"\n",
              "            title=\"Convert this dataframe to an interactive table.\"\n",
              "            style=\"display:none;\">\n",
              "\n",
              "  <svg xmlns=\"http://www.w3.org/2000/svg\" height=\"24px\" viewBox=\"0 -960 960 960\">\n",
              "    <path d=\"M120-120v-720h720v720H120Zm60-500h600v-160H180v160Zm220 220h160v-160H400v160Zm0 220h160v-160H400v160ZM180-400h160v-160H180v160Zm440 0h160v-160H620v160ZM180-180h160v-160H180v160Zm440 0h160v-160H620v160Z\"/>\n",
              "  </svg>\n",
              "    </button>\n",
              "\n",
              "  <style>\n",
              "    .colab-df-container {\n",
              "      display:flex;\n",
              "      gap: 12px;\n",
              "    }\n",
              "\n",
              "    .colab-df-convert {\n",
              "      background-color: #E8F0FE;\n",
              "      border: none;\n",
              "      border-radius: 50%;\n",
              "      cursor: pointer;\n",
              "      display: none;\n",
              "      fill: #1967D2;\n",
              "      height: 32px;\n",
              "      padding: 0 0 0 0;\n",
              "      width: 32px;\n",
              "    }\n",
              "\n",
              "    .colab-df-convert:hover {\n",
              "      background-color: #E2EBFA;\n",
              "      box-shadow: 0px 1px 2px rgba(60, 64, 67, 0.3), 0px 1px 3px 1px rgba(60, 64, 67, 0.15);\n",
              "      fill: #174EA6;\n",
              "    }\n",
              "\n",
              "    .colab-df-buttons div {\n",
              "      margin-bottom: 4px;\n",
              "    }\n",
              "\n",
              "    [theme=dark] .colab-df-convert {\n",
              "      background-color: #3B4455;\n",
              "      fill: #D2E3FC;\n",
              "    }\n",
              "\n",
              "    [theme=dark] .colab-df-convert:hover {\n",
              "      background-color: #434B5C;\n",
              "      box-shadow: 0px 1px 3px 1px rgba(0, 0, 0, 0.15);\n",
              "      filter: drop-shadow(0px 1px 2px rgba(0, 0, 0, 0.3));\n",
              "      fill: #FFFFFF;\n",
              "    }\n",
              "  </style>\n",
              "\n",
              "    <script>\n",
              "      const buttonEl =\n",
              "        document.querySelector('#df-a14928a8-69f9-48f0-95a9-27cf4c30a6a5 button.colab-df-convert');\n",
              "      buttonEl.style.display =\n",
              "        google.colab.kernel.accessAllowed ? 'block' : 'none';\n",
              "\n",
              "      async function convertToInteractive(key) {\n",
              "        const element = document.querySelector('#df-a14928a8-69f9-48f0-95a9-27cf4c30a6a5');\n",
              "        const dataTable =\n",
              "          await google.colab.kernel.invokeFunction('convertToInteractive',\n",
              "                                                    [key], {});\n",
              "        if (!dataTable) return;\n",
              "\n",
              "        const docLinkHtml = 'Like what you see? Visit the ' +\n",
              "          '<a target=\"_blank\" href=https://colab.research.google.com/notebooks/data_table.ipynb>data table notebook</a>'\n",
              "          + ' to learn more about interactive tables.';\n",
              "        element.innerHTML = '';\n",
              "        dataTable['output_type'] = 'display_data';\n",
              "        await google.colab.output.renderOutput(dataTable, element);\n",
              "        const docLink = document.createElement('div');\n",
              "        docLink.innerHTML = docLinkHtml;\n",
              "        element.appendChild(docLink);\n",
              "      }\n",
              "    </script>\n",
              "  </div>\n",
              "\n",
              "\n",
              "<div id=\"df-23830eb0-d7b7-4c79-86d9-6752496d2da5\">\n",
              "  <button class=\"colab-df-quickchart\" onclick=\"quickchart('df-23830eb0-d7b7-4c79-86d9-6752496d2da5')\"\n",
              "            title=\"Suggest charts\"\n",
              "            style=\"display:none;\">\n",
              "\n",
              "<svg xmlns=\"http://www.w3.org/2000/svg\" height=\"24px\"viewBox=\"0 0 24 24\"\n",
              "     width=\"24px\">\n",
              "    <g>\n",
              "        <path d=\"M19 3H5c-1.1 0-2 .9-2 2v14c0 1.1.9 2 2 2h14c1.1 0 2-.9 2-2V5c0-1.1-.9-2-2-2zM9 17H7v-7h2v7zm4 0h-2V7h2v10zm4 0h-2v-4h2v4z\"/>\n",
              "    </g>\n",
              "</svg>\n",
              "  </button>\n",
              "\n",
              "<style>\n",
              "  .colab-df-quickchart {\n",
              "      --bg-color: #E8F0FE;\n",
              "      --fill-color: #1967D2;\n",
              "      --hover-bg-color: #E2EBFA;\n",
              "      --hover-fill-color: #174EA6;\n",
              "      --disabled-fill-color: #AAA;\n",
              "      --disabled-bg-color: #DDD;\n",
              "  }\n",
              "\n",
              "  [theme=dark] .colab-df-quickchart {\n",
              "      --bg-color: #3B4455;\n",
              "      --fill-color: #D2E3FC;\n",
              "      --hover-bg-color: #434B5C;\n",
              "      --hover-fill-color: #FFFFFF;\n",
              "      --disabled-bg-color: #3B4455;\n",
              "      --disabled-fill-color: #666;\n",
              "  }\n",
              "\n",
              "  .colab-df-quickchart {\n",
              "    background-color: var(--bg-color);\n",
              "    border: none;\n",
              "    border-radius: 50%;\n",
              "    cursor: pointer;\n",
              "    display: none;\n",
              "    fill: var(--fill-color);\n",
              "    height: 32px;\n",
              "    padding: 0;\n",
              "    width: 32px;\n",
              "  }\n",
              "\n",
              "  .colab-df-quickchart:hover {\n",
              "    background-color: var(--hover-bg-color);\n",
              "    box-shadow: 0 1px 2px rgba(60, 64, 67, 0.3), 0 1px 3px 1px rgba(60, 64, 67, 0.15);\n",
              "    fill: var(--button-hover-fill-color);\n",
              "  }\n",
              "\n",
              "  .colab-df-quickchart-complete:disabled,\n",
              "  .colab-df-quickchart-complete:disabled:hover {\n",
              "    background-color: var(--disabled-bg-color);\n",
              "    fill: var(--disabled-fill-color);\n",
              "    box-shadow: none;\n",
              "  }\n",
              "\n",
              "  .colab-df-spinner {\n",
              "    border: 2px solid var(--fill-color);\n",
              "    border-color: transparent;\n",
              "    border-bottom-color: var(--fill-color);\n",
              "    animation:\n",
              "      spin 1s steps(1) infinite;\n",
              "  }\n",
              "\n",
              "  @keyframes spin {\n",
              "    0% {\n",
              "      border-color: transparent;\n",
              "      border-bottom-color: var(--fill-color);\n",
              "      border-left-color: var(--fill-color);\n",
              "    }\n",
              "    20% {\n",
              "      border-color: transparent;\n",
              "      border-left-color: var(--fill-color);\n",
              "      border-top-color: var(--fill-color);\n",
              "    }\n",
              "    30% {\n",
              "      border-color: transparent;\n",
              "      border-left-color: var(--fill-color);\n",
              "      border-top-color: var(--fill-color);\n",
              "      border-right-color: var(--fill-color);\n",
              "    }\n",
              "    40% {\n",
              "      border-color: transparent;\n",
              "      border-right-color: var(--fill-color);\n",
              "      border-top-color: var(--fill-color);\n",
              "    }\n",
              "    60% {\n",
              "      border-color: transparent;\n",
              "      border-right-color: var(--fill-color);\n",
              "    }\n",
              "    80% {\n",
              "      border-color: transparent;\n",
              "      border-right-color: var(--fill-color);\n",
              "      border-bottom-color: var(--fill-color);\n",
              "    }\n",
              "    90% {\n",
              "      border-color: transparent;\n",
              "      border-bottom-color: var(--fill-color);\n",
              "    }\n",
              "  }\n",
              "</style>\n",
              "\n",
              "  <script>\n",
              "    async function quickchart(key) {\n",
              "      const quickchartButtonEl =\n",
              "        document.querySelector('#' + key + ' button');\n",
              "      quickchartButtonEl.disabled = true;  // To prevent multiple clicks.\n",
              "      quickchartButtonEl.classList.add('colab-df-spinner');\n",
              "      try {\n",
              "        const charts = await google.colab.kernel.invokeFunction(\n",
              "            'suggestCharts', [key], {});\n",
              "      } catch (error) {\n",
              "        console.error('Error during call to suggestCharts:', error);\n",
              "      }\n",
              "      quickchartButtonEl.classList.remove('colab-df-spinner');\n",
              "      quickchartButtonEl.classList.add('colab-df-quickchart-complete');\n",
              "    }\n",
              "    (() => {\n",
              "      let quickchartButtonEl =\n",
              "        document.querySelector('#df-23830eb0-d7b7-4c79-86d9-6752496d2da5 button');\n",
              "      quickchartButtonEl.style.display =\n",
              "        google.colab.kernel.accessAllowed ? 'block' : 'none';\n",
              "    })();\n",
              "  </script>\n",
              "</div>\n",
              "    </div>\n",
              "  </div>\n"
            ]
          },
          "metadata": {},
          "execution_count": 12
        }
      ],
      "source": [
        "df_data['Processed Review'] = df_data['Review Text'].apply(preprocess_review)\n",
        "print(len(df_data))\n",
        "df_data.head(5)"
      ]
    },
    {
      "cell_type": "code",
      "execution_count": 13,
      "metadata": {
        "colab": {
          "base_uri": "https://localhost:8080/"
        },
        "id": "CaIp6U9rUSgB",
        "outputId": "6f0bd0f2-0b26-446b-88e6-fc293c846e02"
      },
      "outputs": [
        {
          "output_type": "stream",
          "name": "stdout",
          "text": [
            "the teacher were very knowledgeable , and they explained grammar well , especially the english teacher .\n"
          ]
        }
      ],
      "source": [
        "review_text = \"The instructors were very knowledgeable, and they explained grammar well, especially the English instructors.\"\n",
        "merged_review = preprocess_review(review_text)\n",
        "print(merged_review)"
      ]
    },
    {
      "cell_type": "markdown",
      "metadata": {
        "id": "vSfc_8nZUSgC"
      },
      "source": [
        "# Sentic Concepts"
      ]
    },
    {
      "cell_type": "code",
      "execution_count": 14,
      "metadata": {
        "colab": {
          "base_uri": "https://localhost:8080/"
        },
        "id": "I9mEWBkQUSgC",
        "outputId": "6bcc8e8c-58b6-4be0-aedd-0e62ce3bf8fe"
      },
      "outputs": [
        {
          "output_type": "stream",
          "name": "stdout",
          "text": [
            "   POLARITY  Unnamed: 1     CONCEPT\n",
            "0  negative         NaN         aah\n",
            "1  negative         NaN   abacinate\n",
            "2  negative         NaN  abacterial\n",
            "3  negative         NaN    abaction\n",
            "4  negative         NaN     abactor\n"
          ]
        }
      ],
      "source": [
        "# Read CSV file into DataFrame\n",
        "df_sentic_concepts = pd.read_csv('/content/drive/MyDrive/ASC/sentic_concepts.csv')\n",
        "\n",
        "# Print first 5 rows of DataFrame\n",
        "print(df_sentic_concepts.head())"
      ]
    },
    {
      "cell_type": "markdown",
      "metadata": {
        "id": "NqgusrsbUSgD"
      },
      "source": [
        "# Senticnet Polarity"
      ]
    },
    {
      "cell_type": "code",
      "execution_count": 15,
      "metadata": {
        "colab": {
          "base_uri": "https://localhost:8080/",
          "height": 243
        },
        "id": "xgGVUahNUSgD",
        "outputId": "01c2016d-d3f7-425c-c74a-4ce40238258b"
      },
      "outputs": [
        {
          "output_type": "execute_result",
          "data": {
            "text/plain": [
              "      CONCEPT  INTROSPECTION  TEMPER  ATTITUDE  SENSITIVITY PRIMARY EMOTION  \\\n",
              "0         aah         -0.638     0.0     0.000        0.000        #sadness   \n",
              "1   abacinate         -0.847     0.0    -0.799        0.000          #grief   \n",
              "2  abacterial         -0.886     0.0    -0.780        0.000          #grief   \n",
              "3    abaction          0.000     0.0     0.000       -0.329        #anxiety   \n",
              "4     abactor          0.000     0.0     0.000       -0.329        #anxiety   \n",
              "\n",
              "  SECONDAY EMOTION POLARITY VALUE  POLARITY INTENSITY   SEMANTICS Unnamed: 10  \\\n",
              "0             None       negative              -0.638        weep     whimper   \n",
              "1        #loathing       negative              -0.823    sadheart      sorrow   \n",
              "2        #loathing       negative              -0.833  abacterial  abacterial   \n",
              "3             None       negative              -0.329     abactor  actionless   \n",
              "4             None       negative              -0.329    abaction  actionless   \n",
              "\n",
              "  Unnamed: 11  Unnamed: 12 Unnamed: 13  \n",
              "0     tear_up          gah         cry  \n",
              "1      deject      wow_sad        sadz  \n",
              "2  abacterial   abacterial  abacterial  \n",
              "3     actless  actor_proof  deactivate  \n",
              "4     actless  actor_proof  deactivate  "
            ],
            "text/html": [
              "\n",
              "  <div id=\"df-41572631-40b6-4fe5-93ed-34ebfb065406\" class=\"colab-df-container\">\n",
              "    <div>\n",
              "<style scoped>\n",
              "    .dataframe tbody tr th:only-of-type {\n",
              "        vertical-align: middle;\n",
              "    }\n",
              "\n",
              "    .dataframe tbody tr th {\n",
              "        vertical-align: top;\n",
              "    }\n",
              "\n",
              "    .dataframe thead th {\n",
              "        text-align: right;\n",
              "    }\n",
              "</style>\n",
              "<table border=\"1\" class=\"dataframe\">\n",
              "  <thead>\n",
              "    <tr style=\"text-align: right;\">\n",
              "      <th></th>\n",
              "      <th>CONCEPT</th>\n",
              "      <th>INTROSPECTION</th>\n",
              "      <th>TEMPER</th>\n",
              "      <th>ATTITUDE</th>\n",
              "      <th>SENSITIVITY</th>\n",
              "      <th>PRIMARY EMOTION</th>\n",
              "      <th>SECONDAY EMOTION</th>\n",
              "      <th>POLARITY VALUE</th>\n",
              "      <th>POLARITY INTENSITY</th>\n",
              "      <th>SEMANTICS</th>\n",
              "      <th>Unnamed: 10</th>\n",
              "      <th>Unnamed: 11</th>\n",
              "      <th>Unnamed: 12</th>\n",
              "      <th>Unnamed: 13</th>\n",
              "    </tr>\n",
              "  </thead>\n",
              "  <tbody>\n",
              "    <tr>\n",
              "      <th>0</th>\n",
              "      <td>aah</td>\n",
              "      <td>-0.638</td>\n",
              "      <td>0.0</td>\n",
              "      <td>0.000</td>\n",
              "      <td>0.000</td>\n",
              "      <td>#sadness</td>\n",
              "      <td>None</td>\n",
              "      <td>negative</td>\n",
              "      <td>-0.638</td>\n",
              "      <td>weep</td>\n",
              "      <td>whimper</td>\n",
              "      <td>tear_up</td>\n",
              "      <td>gah</td>\n",
              "      <td>cry</td>\n",
              "    </tr>\n",
              "    <tr>\n",
              "      <th>1</th>\n",
              "      <td>abacinate</td>\n",
              "      <td>-0.847</td>\n",
              "      <td>0.0</td>\n",
              "      <td>-0.799</td>\n",
              "      <td>0.000</td>\n",
              "      <td>#grief</td>\n",
              "      <td>#loathing</td>\n",
              "      <td>negative</td>\n",
              "      <td>-0.823</td>\n",
              "      <td>sadheart</td>\n",
              "      <td>sorrow</td>\n",
              "      <td>deject</td>\n",
              "      <td>wow_sad</td>\n",
              "      <td>sadz</td>\n",
              "    </tr>\n",
              "    <tr>\n",
              "      <th>2</th>\n",
              "      <td>abacterial</td>\n",
              "      <td>-0.886</td>\n",
              "      <td>0.0</td>\n",
              "      <td>-0.780</td>\n",
              "      <td>0.000</td>\n",
              "      <td>#grief</td>\n",
              "      <td>#loathing</td>\n",
              "      <td>negative</td>\n",
              "      <td>-0.833</td>\n",
              "      <td>abacterial</td>\n",
              "      <td>abacterial</td>\n",
              "      <td>abacterial</td>\n",
              "      <td>abacterial</td>\n",
              "      <td>abacterial</td>\n",
              "    </tr>\n",
              "    <tr>\n",
              "      <th>3</th>\n",
              "      <td>abaction</td>\n",
              "      <td>0.000</td>\n",
              "      <td>0.0</td>\n",
              "      <td>0.000</td>\n",
              "      <td>-0.329</td>\n",
              "      <td>#anxiety</td>\n",
              "      <td>None</td>\n",
              "      <td>negative</td>\n",
              "      <td>-0.329</td>\n",
              "      <td>abactor</td>\n",
              "      <td>actionless</td>\n",
              "      <td>actless</td>\n",
              "      <td>actor_proof</td>\n",
              "      <td>deactivate</td>\n",
              "    </tr>\n",
              "    <tr>\n",
              "      <th>4</th>\n",
              "      <td>abactor</td>\n",
              "      <td>0.000</td>\n",
              "      <td>0.0</td>\n",
              "      <td>0.000</td>\n",
              "      <td>-0.329</td>\n",
              "      <td>#anxiety</td>\n",
              "      <td>None</td>\n",
              "      <td>negative</td>\n",
              "      <td>-0.329</td>\n",
              "      <td>abaction</td>\n",
              "      <td>actionless</td>\n",
              "      <td>actless</td>\n",
              "      <td>actor_proof</td>\n",
              "      <td>deactivate</td>\n",
              "    </tr>\n",
              "  </tbody>\n",
              "</table>\n",
              "</div>\n",
              "    <div class=\"colab-df-buttons\">\n",
              "\n",
              "  <div class=\"colab-df-container\">\n",
              "    <button class=\"colab-df-convert\" onclick=\"convertToInteractive('df-41572631-40b6-4fe5-93ed-34ebfb065406')\"\n",
              "            title=\"Convert this dataframe to an interactive table.\"\n",
              "            style=\"display:none;\">\n",
              "\n",
              "  <svg xmlns=\"http://www.w3.org/2000/svg\" height=\"24px\" viewBox=\"0 -960 960 960\">\n",
              "    <path d=\"M120-120v-720h720v720H120Zm60-500h600v-160H180v160Zm220 220h160v-160H400v160Zm0 220h160v-160H400v160ZM180-400h160v-160H180v160Zm440 0h160v-160H620v160ZM180-180h160v-160H180v160Zm440 0h160v-160H620v160Z\"/>\n",
              "  </svg>\n",
              "    </button>\n",
              "\n",
              "  <style>\n",
              "    .colab-df-container {\n",
              "      display:flex;\n",
              "      gap: 12px;\n",
              "    }\n",
              "\n",
              "    .colab-df-convert {\n",
              "      background-color: #E8F0FE;\n",
              "      border: none;\n",
              "      border-radius: 50%;\n",
              "      cursor: pointer;\n",
              "      display: none;\n",
              "      fill: #1967D2;\n",
              "      height: 32px;\n",
              "      padding: 0 0 0 0;\n",
              "      width: 32px;\n",
              "    }\n",
              "\n",
              "    .colab-df-convert:hover {\n",
              "      background-color: #E2EBFA;\n",
              "      box-shadow: 0px 1px 2px rgba(60, 64, 67, 0.3), 0px 1px 3px 1px rgba(60, 64, 67, 0.15);\n",
              "      fill: #174EA6;\n",
              "    }\n",
              "\n",
              "    .colab-df-buttons div {\n",
              "      margin-bottom: 4px;\n",
              "    }\n",
              "\n",
              "    [theme=dark] .colab-df-convert {\n",
              "      background-color: #3B4455;\n",
              "      fill: #D2E3FC;\n",
              "    }\n",
              "\n",
              "    [theme=dark] .colab-df-convert:hover {\n",
              "      background-color: #434B5C;\n",
              "      box-shadow: 0px 1px 3px 1px rgba(0, 0, 0, 0.15);\n",
              "      filter: drop-shadow(0px 1px 2px rgba(0, 0, 0, 0.3));\n",
              "      fill: #FFFFFF;\n",
              "    }\n",
              "  </style>\n",
              "\n",
              "    <script>\n",
              "      const buttonEl =\n",
              "        document.querySelector('#df-41572631-40b6-4fe5-93ed-34ebfb065406 button.colab-df-convert');\n",
              "      buttonEl.style.display =\n",
              "        google.colab.kernel.accessAllowed ? 'block' : 'none';\n",
              "\n",
              "      async function convertToInteractive(key) {\n",
              "        const element = document.querySelector('#df-41572631-40b6-4fe5-93ed-34ebfb065406');\n",
              "        const dataTable =\n",
              "          await google.colab.kernel.invokeFunction('convertToInteractive',\n",
              "                                                    [key], {});\n",
              "        if (!dataTable) return;\n",
              "\n",
              "        const docLinkHtml = 'Like what you see? Visit the ' +\n",
              "          '<a target=\"_blank\" href=https://colab.research.google.com/notebooks/data_table.ipynb>data table notebook</a>'\n",
              "          + ' to learn more about interactive tables.';\n",
              "        element.innerHTML = '';\n",
              "        dataTable['output_type'] = 'display_data';\n",
              "        await google.colab.output.renderOutput(dataTable, element);\n",
              "        const docLink = document.createElement('div');\n",
              "        docLink.innerHTML = docLinkHtml;\n",
              "        element.appendChild(docLink);\n",
              "      }\n",
              "    </script>\n",
              "  </div>\n",
              "\n",
              "\n",
              "<div id=\"df-a33687a0-da96-4db6-9e58-712381d60171\">\n",
              "  <button class=\"colab-df-quickchart\" onclick=\"quickchart('df-a33687a0-da96-4db6-9e58-712381d60171')\"\n",
              "            title=\"Suggest charts\"\n",
              "            style=\"display:none;\">\n",
              "\n",
              "<svg xmlns=\"http://www.w3.org/2000/svg\" height=\"24px\"viewBox=\"0 0 24 24\"\n",
              "     width=\"24px\">\n",
              "    <g>\n",
              "        <path d=\"M19 3H5c-1.1 0-2 .9-2 2v14c0 1.1.9 2 2 2h14c1.1 0 2-.9 2-2V5c0-1.1-.9-2-2-2zM9 17H7v-7h2v7zm4 0h-2V7h2v10zm4 0h-2v-4h2v4z\"/>\n",
              "    </g>\n",
              "</svg>\n",
              "  </button>\n",
              "\n",
              "<style>\n",
              "  .colab-df-quickchart {\n",
              "      --bg-color: #E8F0FE;\n",
              "      --fill-color: #1967D2;\n",
              "      --hover-bg-color: #E2EBFA;\n",
              "      --hover-fill-color: #174EA6;\n",
              "      --disabled-fill-color: #AAA;\n",
              "      --disabled-bg-color: #DDD;\n",
              "  }\n",
              "\n",
              "  [theme=dark] .colab-df-quickchart {\n",
              "      --bg-color: #3B4455;\n",
              "      --fill-color: #D2E3FC;\n",
              "      --hover-bg-color: #434B5C;\n",
              "      --hover-fill-color: #FFFFFF;\n",
              "      --disabled-bg-color: #3B4455;\n",
              "      --disabled-fill-color: #666;\n",
              "  }\n",
              "\n",
              "  .colab-df-quickchart {\n",
              "    background-color: var(--bg-color);\n",
              "    border: none;\n",
              "    border-radius: 50%;\n",
              "    cursor: pointer;\n",
              "    display: none;\n",
              "    fill: var(--fill-color);\n",
              "    height: 32px;\n",
              "    padding: 0;\n",
              "    width: 32px;\n",
              "  }\n",
              "\n",
              "  .colab-df-quickchart:hover {\n",
              "    background-color: var(--hover-bg-color);\n",
              "    box-shadow: 0 1px 2px rgba(60, 64, 67, 0.3), 0 1px 3px 1px rgba(60, 64, 67, 0.15);\n",
              "    fill: var(--button-hover-fill-color);\n",
              "  }\n",
              "\n",
              "  .colab-df-quickchart-complete:disabled,\n",
              "  .colab-df-quickchart-complete:disabled:hover {\n",
              "    background-color: var(--disabled-bg-color);\n",
              "    fill: var(--disabled-fill-color);\n",
              "    box-shadow: none;\n",
              "  }\n",
              "\n",
              "  .colab-df-spinner {\n",
              "    border: 2px solid var(--fill-color);\n",
              "    border-color: transparent;\n",
              "    border-bottom-color: var(--fill-color);\n",
              "    animation:\n",
              "      spin 1s steps(1) infinite;\n",
              "  }\n",
              "\n",
              "  @keyframes spin {\n",
              "    0% {\n",
              "      border-color: transparent;\n",
              "      border-bottom-color: var(--fill-color);\n",
              "      border-left-color: var(--fill-color);\n",
              "    }\n",
              "    20% {\n",
              "      border-color: transparent;\n",
              "      border-left-color: var(--fill-color);\n",
              "      border-top-color: var(--fill-color);\n",
              "    }\n",
              "    30% {\n",
              "      border-color: transparent;\n",
              "      border-left-color: var(--fill-color);\n",
              "      border-top-color: var(--fill-color);\n",
              "      border-right-color: var(--fill-color);\n",
              "    }\n",
              "    40% {\n",
              "      border-color: transparent;\n",
              "      border-right-color: var(--fill-color);\n",
              "      border-top-color: var(--fill-color);\n",
              "    }\n",
              "    60% {\n",
              "      border-color: transparent;\n",
              "      border-right-color: var(--fill-color);\n",
              "    }\n",
              "    80% {\n",
              "      border-color: transparent;\n",
              "      border-right-color: var(--fill-color);\n",
              "      border-bottom-color: var(--fill-color);\n",
              "    }\n",
              "    90% {\n",
              "      border-color: transparent;\n",
              "      border-bottom-color: var(--fill-color);\n",
              "    }\n",
              "  }\n",
              "</style>\n",
              "\n",
              "  <script>\n",
              "    async function quickchart(key) {\n",
              "      const quickchartButtonEl =\n",
              "        document.querySelector('#' + key + ' button');\n",
              "      quickchartButtonEl.disabled = true;  // To prevent multiple clicks.\n",
              "      quickchartButtonEl.classList.add('colab-df-spinner');\n",
              "      try {\n",
              "        const charts = await google.colab.kernel.invokeFunction(\n",
              "            'suggestCharts', [key], {});\n",
              "      } catch (error) {\n",
              "        console.error('Error during call to suggestCharts:', error);\n",
              "      }\n",
              "      quickchartButtonEl.classList.remove('colab-df-spinner');\n",
              "      quickchartButtonEl.classList.add('colab-df-quickchart-complete');\n",
              "    }\n",
              "    (() => {\n",
              "      let quickchartButtonEl =\n",
              "        document.querySelector('#df-a33687a0-da96-4db6-9e58-712381d60171 button');\n",
              "      quickchartButtonEl.style.display =\n",
              "        google.colab.kernel.accessAllowed ? 'block' : 'none';\n",
              "    })();\n",
              "  </script>\n",
              "</div>\n",
              "    </div>\n",
              "  </div>\n"
            ]
          },
          "metadata": {},
          "execution_count": 15
        }
      ],
      "source": [
        "df_senticnet_polarity =  pd.read_csv('/content/drive/MyDrive/ASC/senticnet.csv')\n",
        "df_senticnet_polarity.head()"
      ]
    },
    {
      "cell_type": "markdown",
      "metadata": {
        "id": "7RtlxR2SUSgE"
      },
      "source": [
        "# Preparing a dictionary containing the concepts and their polarity"
      ]
    },
    {
      "cell_type": "code",
      "execution_count": 16,
      "metadata": {
        "id": "3XPebJwbUSgE"
      },
      "outputs": [],
      "source": [
        "concept_POLARITY_score={}\n",
        "concept_POLARITY_value={}"
      ]
    },
    {
      "cell_type": "code",
      "execution_count": 17,
      "metadata": {
        "id": "UtkS1iYwUSgF"
      },
      "outputs": [],
      "source": [
        "for i,row in enumerate(df_sentic_concepts['CONCEPT']):\n",
        "      concept_POLARITY_value[str(df_sentic_concepts['CONCEPT'][i])]=str(df_senticnet_polarity['POLARITY VALUE'][i])\n",
        "\n",
        "for i,row in enumerate(df_sentic_concepts['CONCEPT']):\n",
        "      concept_POLARITY_score[str(df_sentic_concepts['CONCEPT'][i])]=float(df_senticnet_polarity['POLARITY INTENSITY'][i])"
      ]
    },
    {
      "cell_type": "code",
      "execution_count": 18,
      "metadata": {
        "colab": {
          "base_uri": "https://localhost:8080/"
        },
        "id": "6kO0GyqHUSgF",
        "outputId": "a6b465fa-5746-40f3-ee22-7138fa498687"
      },
      "outputs": [
        {
          "output_type": "stream",
          "name": "stdout",
          "text": [
            "['aah', 'abacinate', 'abacterial', 'abaction', 'abactor']\n",
            "['negative', 'negative', 'negative', 'negative', 'negative']\n"
          ]
        }
      ],
      "source": [
        "first_5_keys = list(concept_POLARITY_value.keys())[:5]\n",
        "values_for_first_5_keys = [concept_POLARITY_value[key] for key in first_5_keys]\n",
        "print(first_5_keys)\n",
        "print(values_for_first_5_keys)"
      ]
    },
    {
      "cell_type": "code",
      "execution_count": 19,
      "metadata": {
        "colab": {
          "base_uri": "https://localhost:8080/"
        },
        "id": "h3cCol-8USgF",
        "outputId": "b4cd0bcf-2958-4962-b6d6-b06dec8a96b5"
      },
      "outputs": [
        {
          "output_type": "stream",
          "name": "stdout",
          "text": [
            "['aah', 'abacinate', 'abacterial', 'abaction', 'abactor']\n",
            "[-0.638, -0.823, -0.833, -0.329, -0.329]\n"
          ]
        }
      ],
      "source": [
        "first_5_keys = list(concept_POLARITY_score.keys())[:5]\n",
        "values_for_first_5_keys = [concept_POLARITY_score[key] for key in first_5_keys]\n",
        "print(first_5_keys)\n",
        "print(values_for_first_5_keys)"
      ]
    },
    {
      "cell_type": "markdown",
      "metadata": {
        "id": "N315GnB4USgG"
      },
      "source": [
        "\n",
        "\n",
        "---\n",
        "\n",
        "\n",
        "# Capture the sentiments related to each aspect for every review.\n",
        "\n",
        "**Attributes:**\n",
        "\n",
        "* positive_threshold (float): The threshold for considering a sentiment as positive.\n",
        "\n",
        "* negative_threshold (float): The threshold for considering a sentiment as negative.\n",
        "\n",
        "* nlp (spacy.Language): The SpaCy pre-trained English model for natural language processing.\n",
        "\n",
        "* labeles_aspect1 (list): A list to store labels for aspect 1 ('teacher') for each review.\n",
        "\n",
        "* labeles_aspect2 (list): A list to store labels for aspect 2 ('course') for each review.\n",
        "\n",
        "* score_1 (list): A list to store sentiment scores for aspect 1 ('teacher') for each review.\n",
        "\n",
        "* score_2 (list): A list to store sentiment scores for aspect 2 ('course') for each review.\n",
        "\n",
        "**Todo:**\n",
        "\n",
        "  * Fine-tune the threshold values for better sentiment classification.\n",
        "  * Implement additional error handling for robustness."
      ]
    },
    {
      "cell_type": "code",
      "execution_count": 23,
      "metadata": {
        "colab": {
          "base_uri": "https://localhost:8080/"
        },
        "id": "lmtHVjRcUSgG",
        "outputId": "289d7cf6-ca92-48c6-8447-4e736f929ee8"
      },
      "outputs": [
        {
          "output_type": "stream",
          "name": "stderr",
          "text": [
            "100%|██████████| 478775/478775 [1:42:51<00:00, 77.57it/s] \n"
          ]
        }
      ],
      "source": [
        "positive_threshold = 0.3\n",
        "negative_threshold = 0\n",
        "\n",
        "# Load Spacy's pre-trained English model\n",
        "nlp = spacy.load('en_core_web_sm')\n",
        "\n",
        "labeles_aspect2=[]\n",
        "labeles_aspect1=[]\n",
        "score_1 = []\n",
        "score_2 = []\n",
        "\n",
        "for review in tqdm(df_data[\"Processed Review\"], total=len(df_data)):\n",
        "\n",
        "    doc = nlp(review)\n",
        "\n",
        "    # Extract sentences containing relevant aspects using Spacy's dependency parsing\n",
        "    sentences_aspect2 = []\n",
        "    sentences_aspect1 = []\n",
        "\n",
        "    for sent in doc.sents:\n",
        "        for token in sent:\n",
        "            if str(token.text)  == 'teacher':\n",
        "                sentences_aspect1.append(sent.text)\n",
        "                break\n",
        "\n",
        "    for sent in doc.sents:\n",
        "        for token in sent:\n",
        "            if str(token.text) == 'course':\n",
        "                sentences_aspect2.append(sent.text)\n",
        "                break\n",
        "\n",
        "\n",
        "\n",
        "\n",
        "    sentences_aspect2 = [x for x in sentences_aspect2 if x]\n",
        "    sentences_aspect1 = [x for x in sentences_aspect1 if x]\n",
        "\n",
        "    sentiment_score_aspect2 = 0\n",
        "    len_review_words_aspect2 = 0\n",
        "    # print(\"sentences_aspect2  : \", sentences_aspect2)\n",
        "    if len(sentences_aspect2)>0:\n",
        "        for sent in sentences_aspect2 :\n",
        "            # print(\"1\")\n",
        "            review_words = word_tokenize(str(sent))\n",
        "            #review_words = [word for word in review_words if word not in string.punctuation]\n",
        "\n",
        "            # Calculate the sentiment score for each word and aggregate them\n",
        "\n",
        "            for word in review_words:\n",
        "                if word in concept_POLARITY_score:\n",
        "                    word_sentiment = concept_POLARITY_score[word]\n",
        "                    if word_sentiment is not None:\n",
        "                        sentiment_score_aspect2 += float(word_sentiment)\n",
        "\n",
        "            len_review_words_aspect2 += len(review_words)\n",
        "            # print(\"acc .......\", len_review_words_aspect2)\n",
        "\n",
        "        # Calculate the overall sentiment score for the review for aspect 2\n",
        "        # print(\"len : \", len_review_words_aspect2)\n",
        "        review_sentiment = sentiment_score_aspect2 / len_review_words_aspect2\n",
        "        score_2.append(review_sentiment)\n",
        "        # Label the review as positive, negative, or neutral based on the threshold\n",
        "        if review_sentiment > positive_threshold:\n",
        "            label = 'positive'\n",
        "            labeles_aspect2.append(label)\n",
        "        elif review_sentiment < negative_threshold:\n",
        "            label = 'negative'\n",
        "            labeles_aspect2.append(label)\n",
        "        else :\n",
        "            label = 'neutral'\n",
        "            labeles_aspect2.append(label)\n",
        "    if len(sentences_aspect2)==0:\n",
        "        label = 'neutral'\n",
        "        labeles_aspect2.append(label)\n",
        "        score_2.append(0)\n",
        "\n",
        "\n",
        "    sentiment_score_aspect1 = 0\n",
        "    len_review_words_aspect1 = 0\n",
        "    # print(\"sentences_aspect1  : \", sentences_aspect1)\n",
        "    if len(sentences_aspect1)>0:\n",
        "        for sent in sentences_aspect1 :\n",
        "            # print(\"1\")\n",
        "            review_words = word_tokenize(str(sent))\n",
        "            #review_words = [word for word in review_words if word not in string.punctuation]\n",
        "\n",
        "            # Calculate the sentiment score for each word and aggregate them\n",
        "\n",
        "            for word in review_words:\n",
        "                if word in concept_POLARITY_score:\n",
        "                    word_sentiment = concept_POLARITY_score[word]\n",
        "                    if word_sentiment is not None:\n",
        "                        sentiment_score_aspect1 += float(word_sentiment)\n",
        "\n",
        "            len_review_words_aspect1 += len(review_words)\n",
        "            # print(\"acc .......\", len_review_words_aspect2)\n",
        "\n",
        "        # Calculate the overall sentiment score for the review for aspect 2\n",
        "        # print(\"len : \", len_review_words_aspect2)\n",
        "        review_sentiment = sentiment_score_aspect1 / len_review_words_aspect1\n",
        "        score_1.append(review_sentiment)\n",
        "        # Label the review as positive, negative, or neutral based on the threshold\n",
        "        if review_sentiment > positive_threshold:\n",
        "            label = 'positive'\n",
        "            labeles_aspect1.append(label)\n",
        "        elif review_sentiment < negative_threshold:\n",
        "            label = 'negative'\n",
        "            labeles_aspect1.append(label)\n",
        "        else :\n",
        "            label = 'neutral'\n",
        "            labeles_aspect1.append(label)\n",
        "    if len(sentences_aspect1)==0:\n",
        "        label = 'neutral'\n",
        "        labeles_aspect1.append(label)\n",
        "        score_1.append(0)"
      ]
    },
    {
      "cell_type": "code",
      "execution_count": 24,
      "metadata": {
        "colab": {
          "base_uri": "https://localhost:8080/"
        },
        "id": "9nmB3CJq5QDE",
        "outputId": "1b80e6f2-f8ad-4d8d-ebba-6bcc458b5850"
      },
      "outputs": [
        {
          "output_type": "execute_result",
          "data": {
            "text/plain": [
              "478775"
            ]
          },
          "metadata": {},
          "execution_count": 24
        }
      ],
      "source": [
        "len(df_data)"
      ]
    },
    {
      "cell_type": "code",
      "execution_count": 25,
      "metadata": {
        "id": "WIx87ZL-USgI"
      },
      "outputs": [],
      "source": [
        "# len(labeles_aspect1)\n",
        "# labeles_aspect1.extend(['neutral'] * (len(df_data)-10000))"
      ]
    },
    {
      "cell_type": "code",
      "execution_count": 26,
      "metadata": {
        "colab": {
          "base_uri": "https://localhost:8080/"
        },
        "id": "1aF56lTrUSgI",
        "outputId": "a457831e-5a6d-4415-bc88-6daeee0ab616"
      },
      "outputs": [
        {
          "data": {
            "text/plain": [
              "478775"
            ]
          },
          "execution_count": 26,
          "metadata": {},
          "output_type": "execute_result"
        }
      ],
      "source": [
        "len(labeles_aspect1)"
      ]
    },
    {
      "cell_type": "code",
      "execution_count": 27,
      "metadata": {
        "colab": {
          "base_uri": "https://localhost:8080/",
          "height": 36
        },
        "id": "dvno1lYU6-Qs",
        "outputId": "7de3d8ae-1f4b-442f-94b5-bae9b2c67988"
      },
      "outputs": [
        {
          "output_type": "execute_result",
          "data": {
            "text/plain": [
              "'neutral'"
            ],
            "application/vnd.google.colaboratory.intrinsic+json": {
              "type": "string"
            }
          },
          "metadata": {},
          "execution_count": 27
        }
      ],
      "source": [
        "\n",
        "labeles_aspect1[-2]"
      ]
    },
    {
      "cell_type": "code",
      "execution_count": 28,
      "metadata": {
        "id": "kAAhTgRcUSgI"
      },
      "outputs": [],
      "source": [
        "df_data['labeles_aspect1'] = labeles_aspect1\n"
      ]
    },
    {
      "cell_type": "code",
      "execution_count": 29,
      "metadata": {
        "id": "x42aucJ0aGqs"
      },
      "outputs": [],
      "source": [
        "#labeles_aspect2.extend(['neutral'] * (len(df_data)-10000))\n",
        "df_data['labeles_aspect2']=labeles_aspect2"
      ]
    },
    {
      "cell_type": "code",
      "execution_count": 30,
      "metadata": {
        "colab": {
          "base_uri": "https://localhost:8080/"
        },
        "id": "3BLLjgrMAkyT",
        "outputId": "ca8b523f-de82-48fa-c0b2-9196a14a136d"
      },
      "outputs": [
        {
          "output_type": "execute_result",
          "data": {
            "text/plain": [
              "478775"
            ]
          },
          "metadata": {},
          "execution_count": 30
        }
      ],
      "source": [
        "len(score_1)"
      ]
    },
    {
      "cell_type": "code",
      "execution_count": 31,
      "metadata": {
        "colab": {
          "base_uri": "https://localhost:8080/"
        },
        "id": "3O9QkaoIVVzb",
        "outputId": "55597ac4-8c15-408d-ba32-d5c8dd7943f0"
      },
      "outputs": [
        {
          "output_type": "execute_result",
          "data": {
            "text/plain": [
              "[0.22799999999999998,\n",
              " 0,\n",
              " -0.038818181818181835,\n",
              " 0,\n",
              " 0.04028571428571429,\n",
              " 0,\n",
              " 0,\n",
              " 0,\n",
              " 0.3469090909090909,\n",
              " 0]"
            ]
          },
          "metadata": {},
          "execution_count": 31
        }
      ],
      "source": [
        "score_1[0:10]"
      ]
    },
    {
      "cell_type": "code",
      "execution_count": 32,
      "metadata": {
        "colab": {
          "base_uri": "https://localhost:8080/"
        },
        "id": "Gcuer9jUAYqg",
        "outputId": "92abc93b-3d76-479e-c645-9ca2d38e620a"
      },
      "outputs": [
        {
          "output_type": "execute_result",
          "data": {
            "text/plain": [
              "[-0.021300000000000006,\n",
              " 0.18755555555555556,\n",
              " 0.0071860465116279,\n",
              " -0.0019166666666666683,\n",
              " 0.17994285714285715,\n",
              " 0,\n",
              " 0.018892857142857145,\n",
              " 0.06538709677419355,\n",
              " 0.3469090909090909,\n",
              " 0.10983333333333334]"
            ]
          },
          "metadata": {},
          "execution_count": 32
        }
      ],
      "source": [
        "score_2[0:10]"
      ]
    },
    {
      "cell_type": "code",
      "execution_count": 54,
      "metadata": {
        "colab": {
          "base_uri": "https://localhost:8080/",
          "height": 91
        },
        "id": "zMnBFbOG8UXG",
        "outputId": "6b01ca0f-c5ca-4428-fd98-6b4dfe1ae8d6"
      },
      "outputs": [
        {
          "output_type": "execute_result",
          "data": {
            "text/plain": [
              "\"the teacher did not really do a good enough job setting the stage for what we were doing or explaining terminology . it felt too rushed ( she spoke too quickly ) and large portion of the course consisted of repeating exactly what she wa doing . course of this were quite repetitive , time that could have been better spent on other thing . i feel like we learned more how to edit/maintain a website rather than create one which is also useful . one of the quiz question is n't even an english sentence so it 's meaning is obscure .\""
            ],
            "application/vnd.google.colaboratory.intrinsic+json": {
              "type": "string"
            }
          },
          "metadata": {},
          "execution_count": 54
        }
      ],
      "source": [
        "df_data['Processed Review'][2]"
      ]
    },
    {
      "cell_type": "code",
      "execution_count": 34,
      "metadata": {
        "colab": {
          "base_uri": "https://localhost:8080/",
          "height": 55
        },
        "id": "1tFj-6mM7qYX",
        "outputId": "495e110b-c0e7-494e-def6-d10e98627aaa"
      },
      "outputs": [
        {
          "output_type": "execute_result",
          "data": {
            "text/plain": [
              "\"too fast , the english is not clear , strong accent and i wanted to continue the next day and i could n't . my practice panel went backwards and it wa hard to reach the same course or screen again .\""
            ],
            "application/vnd.google.colaboratory.intrinsic+json": {
              "type": "string"
            }
          },
          "metadata": {},
          "execution_count": 34
        }
      ],
      "source": [
        "df_data['Processed Review'][1]"
      ]
    },
    {
      "cell_type": "code",
      "execution_count": 35,
      "metadata": {
        "colab": {
          "base_uri": "https://localhost:8080/",
          "height": 423
        },
        "id": "YFnjTeReaGm_",
        "outputId": "2afc7197-cfec-4867-80a7-317600e33f3a"
      },
      "outputs": [
        {
          "data": {
            "text/html": [
              "\n",
              "  <div id=\"df-1fefccb5-c8b0-4a8d-b375-9cab605b5cc7\" class=\"colab-df-container\">\n",
              "    <div>\n",
              "<style scoped>\n",
              "    .dataframe tbody tr th:only-of-type {\n",
              "        vertical-align: middle;\n",
              "    }\n",
              "\n",
              "    .dataframe tbody tr th {\n",
              "        vertical-align: top;\n",
              "    }\n",
              "\n",
              "    .dataframe thead th {\n",
              "        text-align: right;\n",
              "    }\n",
              "</style>\n",
              "<table border=\"1\" class=\"dataframe\">\n",
              "  <thead>\n",
              "    <tr style=\"text-align: right;\">\n",
              "      <th></th>\n",
              "      <th>Review Text</th>\n",
              "      <th>Processed Review</th>\n",
              "      <th>labeles_aspect1</th>\n",
              "      <th>labeles_aspect2</th>\n",
              "    </tr>\n",
              "  </thead>\n",
              "  <tbody>\n",
              "    <tr>\n",
              "      <th>0</th>\n",
              "      <td>What you learn in the course is very basic. Th...</td>\n",
              "      <td>what you learn in the course is very basic . t...</td>\n",
              "      <td>neutral</td>\n",
              "      <td>negative</td>\n",
              "    </tr>\n",
              "    <tr>\n",
              "      <th>1</th>\n",
              "      <td>Too fast, the English is not clear, strong acc...</td>\n",
              "      <td>too fast , the english is not clear , strong a...</td>\n",
              "      <td>neutral</td>\n",
              "      <td>neutral</td>\n",
              "    </tr>\n",
              "    <tr>\n",
              "      <th>2</th>\n",
              "      <td>The instructor did not really do a good enough...</td>\n",
              "      <td>the teacher did not really do a good enough jo...</td>\n",
              "      <td>negative</td>\n",
              "      <td>neutral</td>\n",
              "    </tr>\n",
              "    <tr>\n",
              "      <th>3</th>\n",
              "      <td>it's ok for understanding the basics. It distr...</td>\n",
              "      <td>it 's ok for understanding the basic . it dist...</td>\n",
              "      <td>neutral</td>\n",
              "      <td>negative</td>\n",
              "    </tr>\n",
              "    <tr>\n",
              "      <th>4</th>\n",
              "      <td>The training was great. The instructor was kno...</td>\n",
              "      <td>the course wa great . the teacher wa knowledge...</td>\n",
              "      <td>neutral</td>\n",
              "      <td>neutral</td>\n",
              "    </tr>\n",
              "    <tr>\n",
              "      <th>...</th>\n",
              "      <td>...</td>\n",
              "      <td>...</td>\n",
              "      <td>...</td>\n",
              "      <td>...</td>\n",
              "    </tr>\n",
              "    <tr>\n",
              "      <th>478770</th>\n",
              "      <td>Fantastic class! I've learned python and enjoy...</td>\n",
              "      <td>fantastic course ! i 've learned python and en...</td>\n",
              "      <td>neutral</td>\n",
              "      <td>neutral</td>\n",
              "    </tr>\n",
              "    <tr>\n",
              "      <th>478771</th>\n",
              "      <td>Great course material to get students up to sp...</td>\n",
              "      <td>great course course to get student up to speed...</td>\n",
              "      <td>neutral</td>\n",
              "      <td>neutral</td>\n",
              "    </tr>\n",
              "    <tr>\n",
              "      <th>478772</th>\n",
              "      <td>Really addictive and fun way to start learning...</td>\n",
              "      <td>really addictive and fun way to start learning...</td>\n",
              "      <td>neutral</td>\n",
              "      <td>neutral</td>\n",
              "    </tr>\n",
              "    <tr>\n",
              "      <th>478773</th>\n",
              "      <td>It's my best experience in a programing class....</td>\n",
              "      <td>it 's my best experience in a programing cours...</td>\n",
              "      <td>neutral</td>\n",
              "      <td>neutral</td>\n",
              "    </tr>\n",
              "    <tr>\n",
              "      <th>478774</th>\n",
              "      <td>AMAZING course!!! Excellent instructors!\\n\\nht...</td>\n",
              "      <td>amazing course ! ! ! excellent teacher ! http ...</td>\n",
              "      <td>positive</td>\n",
              "      <td>neutral</td>\n",
              "    </tr>\n",
              "  </tbody>\n",
              "</table>\n",
              "<p>478775 rows × 4 columns</p>\n",
              "</div>\n",
              "    <div class=\"colab-df-buttons\">\n",
              "\n",
              "  <div class=\"colab-df-container\">\n",
              "    <button class=\"colab-df-convert\" onclick=\"convertToInteractive('df-1fefccb5-c8b0-4a8d-b375-9cab605b5cc7')\"\n",
              "            title=\"Convert this dataframe to an interactive table.\"\n",
              "            style=\"display:none;\">\n",
              "\n",
              "  <svg xmlns=\"http://www.w3.org/2000/svg\" height=\"24px\" viewBox=\"0 -960 960 960\">\n",
              "    <path d=\"M120-120v-720h720v720H120Zm60-500h600v-160H180v160Zm220 220h160v-160H400v160Zm0 220h160v-160H400v160ZM180-400h160v-160H180v160Zm440 0h160v-160H620v160ZM180-180h160v-160H180v160Zm440 0h160v-160H620v160Z\"/>\n",
              "  </svg>\n",
              "    </button>\n",
              "\n",
              "  <style>\n",
              "    .colab-df-container {\n",
              "      display:flex;\n",
              "      gap: 12px;\n",
              "    }\n",
              "\n",
              "    .colab-df-convert {\n",
              "      background-color: #E8F0FE;\n",
              "      border: none;\n",
              "      border-radius: 50%;\n",
              "      cursor: pointer;\n",
              "      display: none;\n",
              "      fill: #1967D2;\n",
              "      height: 32px;\n",
              "      padding: 0 0 0 0;\n",
              "      width: 32px;\n",
              "    }\n",
              "\n",
              "    .colab-df-convert:hover {\n",
              "      background-color: #E2EBFA;\n",
              "      box-shadow: 0px 1px 2px rgba(60, 64, 67, 0.3), 0px 1px 3px 1px rgba(60, 64, 67, 0.15);\n",
              "      fill: #174EA6;\n",
              "    }\n",
              "\n",
              "    .colab-df-buttons div {\n",
              "      margin-bottom: 4px;\n",
              "    }\n",
              "\n",
              "    [theme=dark] .colab-df-convert {\n",
              "      background-color: #3B4455;\n",
              "      fill: #D2E3FC;\n",
              "    }\n",
              "\n",
              "    [theme=dark] .colab-df-convert:hover {\n",
              "      background-color: #434B5C;\n",
              "      box-shadow: 0px 1px 3px 1px rgba(0, 0, 0, 0.15);\n",
              "      filter: drop-shadow(0px 1px 2px rgba(0, 0, 0, 0.3));\n",
              "      fill: #FFFFFF;\n",
              "    }\n",
              "  </style>\n",
              "\n",
              "    <script>\n",
              "      const buttonEl =\n",
              "        document.querySelector('#df-1fefccb5-c8b0-4a8d-b375-9cab605b5cc7 button.colab-df-convert');\n",
              "      buttonEl.style.display =\n",
              "        google.colab.kernel.accessAllowed ? 'block' : 'none';\n",
              "\n",
              "      async function convertToInteractive(key) {\n",
              "        const element = document.querySelector('#df-1fefccb5-c8b0-4a8d-b375-9cab605b5cc7');\n",
              "        const dataTable =\n",
              "          await google.colab.kernel.invokeFunction('convertToInteractive',\n",
              "                                                    [key], {});\n",
              "        if (!dataTable) return;\n",
              "\n",
              "        const docLinkHtml = 'Like what you see? Visit the ' +\n",
              "          '<a target=\"_blank\" href=https://colab.research.google.com/notebooks/data_table.ipynb>data table notebook</a>'\n",
              "          + ' to learn more about interactive tables.';\n",
              "        element.innerHTML = '';\n",
              "        dataTable['output_type'] = 'display_data';\n",
              "        await google.colab.output.renderOutput(dataTable, element);\n",
              "        const docLink = document.createElement('div');\n",
              "        docLink.innerHTML = docLinkHtml;\n",
              "        element.appendChild(docLink);\n",
              "      }\n",
              "    </script>\n",
              "  </div>\n",
              "\n",
              "\n",
              "<div id=\"df-c5e064bc-d8da-4d1b-9b4d-301c59b825ac\">\n",
              "  <button class=\"colab-df-quickchart\" onclick=\"quickchart('df-c5e064bc-d8da-4d1b-9b4d-301c59b825ac')\"\n",
              "            title=\"Suggest charts\"\n",
              "            style=\"display:none;\">\n",
              "\n",
              "<svg xmlns=\"http://www.w3.org/2000/svg\" height=\"24px\"viewBox=\"0 0 24 24\"\n",
              "     width=\"24px\">\n",
              "    <g>\n",
              "        <path d=\"M19 3H5c-1.1 0-2 .9-2 2v14c0 1.1.9 2 2 2h14c1.1 0 2-.9 2-2V5c0-1.1-.9-2-2-2zM9 17H7v-7h2v7zm4 0h-2V7h2v10zm4 0h-2v-4h2v4z\"/>\n",
              "    </g>\n",
              "</svg>\n",
              "  </button>\n",
              "\n",
              "<style>\n",
              "  .colab-df-quickchart {\n",
              "      --bg-color: #E8F0FE;\n",
              "      --fill-color: #1967D2;\n",
              "      --hover-bg-color: #E2EBFA;\n",
              "      --hover-fill-color: #174EA6;\n",
              "      --disabled-fill-color: #AAA;\n",
              "      --disabled-bg-color: #DDD;\n",
              "  }\n",
              "\n",
              "  [theme=dark] .colab-df-quickchart {\n",
              "      --bg-color: #3B4455;\n",
              "      --fill-color: #D2E3FC;\n",
              "      --hover-bg-color: #434B5C;\n",
              "      --hover-fill-color: #FFFFFF;\n",
              "      --disabled-bg-color: #3B4455;\n",
              "      --disabled-fill-color: #666;\n",
              "  }\n",
              "\n",
              "  .colab-df-quickchart {\n",
              "    background-color: var(--bg-color);\n",
              "    border: none;\n",
              "    border-radius: 50%;\n",
              "    cursor: pointer;\n",
              "    display: none;\n",
              "    fill: var(--fill-color);\n",
              "    height: 32px;\n",
              "    padding: 0;\n",
              "    width: 32px;\n",
              "  }\n",
              "\n",
              "  .colab-df-quickchart:hover {\n",
              "    background-color: var(--hover-bg-color);\n",
              "    box-shadow: 0 1px 2px rgba(60, 64, 67, 0.3), 0 1px 3px 1px rgba(60, 64, 67, 0.15);\n",
              "    fill: var(--button-hover-fill-color);\n",
              "  }\n",
              "\n",
              "  .colab-df-quickchart-complete:disabled,\n",
              "  .colab-df-quickchart-complete:disabled:hover {\n",
              "    background-color: var(--disabled-bg-color);\n",
              "    fill: var(--disabled-fill-color);\n",
              "    box-shadow: none;\n",
              "  }\n",
              "\n",
              "  .colab-df-spinner {\n",
              "    border: 2px solid var(--fill-color);\n",
              "    border-color: transparent;\n",
              "    border-bottom-color: var(--fill-color);\n",
              "    animation:\n",
              "      spin 1s steps(1) infinite;\n",
              "  }\n",
              "\n",
              "  @keyframes spin {\n",
              "    0% {\n",
              "      border-color: transparent;\n",
              "      border-bottom-color: var(--fill-color);\n",
              "      border-left-color: var(--fill-color);\n",
              "    }\n",
              "    20% {\n",
              "      border-color: transparent;\n",
              "      border-left-color: var(--fill-color);\n",
              "      border-top-color: var(--fill-color);\n",
              "    }\n",
              "    30% {\n",
              "      border-color: transparent;\n",
              "      border-left-color: var(--fill-color);\n",
              "      border-top-color: var(--fill-color);\n",
              "      border-right-color: var(--fill-color);\n",
              "    }\n",
              "    40% {\n",
              "      border-color: transparent;\n",
              "      border-right-color: var(--fill-color);\n",
              "      border-top-color: var(--fill-color);\n",
              "    }\n",
              "    60% {\n",
              "      border-color: transparent;\n",
              "      border-right-color: var(--fill-color);\n",
              "    }\n",
              "    80% {\n",
              "      border-color: transparent;\n",
              "      border-right-color: var(--fill-color);\n",
              "      border-bottom-color: var(--fill-color);\n",
              "    }\n",
              "    90% {\n",
              "      border-color: transparent;\n",
              "      border-bottom-color: var(--fill-color);\n",
              "    }\n",
              "  }\n",
              "</style>\n",
              "\n",
              "  <script>\n",
              "    async function quickchart(key) {\n",
              "      const quickchartButtonEl =\n",
              "        document.querySelector('#' + key + ' button');\n",
              "      quickchartButtonEl.disabled = true;  // To prevent multiple clicks.\n",
              "      quickchartButtonEl.classList.add('colab-df-spinner');\n",
              "      try {\n",
              "        const charts = await google.colab.kernel.invokeFunction(\n",
              "            'suggestCharts', [key], {});\n",
              "      } catch (error) {\n",
              "        console.error('Error during call to suggestCharts:', error);\n",
              "      }\n",
              "      quickchartButtonEl.classList.remove('colab-df-spinner');\n",
              "      quickchartButtonEl.classList.add('colab-df-quickchart-complete');\n",
              "    }\n",
              "    (() => {\n",
              "      let quickchartButtonEl =\n",
              "        document.querySelector('#df-c5e064bc-d8da-4d1b-9b4d-301c59b825ac button');\n",
              "      quickchartButtonEl.style.display =\n",
              "        google.colab.kernel.accessAllowed ? 'block' : 'none';\n",
              "    })();\n",
              "  </script>\n",
              "</div>\n",
              "    </div>\n",
              "  </div>\n"
            ],
            "text/plain": [
              "                                              Review Text  \\\n",
              "0       What you learn in the course is very basic. Th...   \n",
              "1       Too fast, the English is not clear, strong acc...   \n",
              "2       The instructor did not really do a good enough...   \n",
              "3       it's ok for understanding the basics. It distr...   \n",
              "4       The training was great. The instructor was kno...   \n",
              "...                                                   ...   \n",
              "478770  Fantastic class! I've learned python and enjoy...   \n",
              "478771  Great course material to get students up to sp...   \n",
              "478772  Really addictive and fun way to start learning...   \n",
              "478773  It's my best experience in a programing class....   \n",
              "478774  AMAZING course!!! Excellent instructors!\\n\\nht...   \n",
              "\n",
              "                                         Processed Review labeles_aspect1  \\\n",
              "0       what you learn in the course is very basic . t...         neutral   \n",
              "1       too fast , the english is not clear , strong a...         neutral   \n",
              "2       the teacher did not really do a good enough jo...        negative   \n",
              "3       it 's ok for understanding the basic . it dist...         neutral   \n",
              "4       the course wa great . the teacher wa knowledge...         neutral   \n",
              "...                                                   ...             ...   \n",
              "478770  fantastic course ! i 've learned python and en...         neutral   \n",
              "478771  great course course to get student up to speed...         neutral   \n",
              "478772  really addictive and fun way to start learning...         neutral   \n",
              "478773  it 's my best experience in a programing cours...         neutral   \n",
              "478774  amazing course ! ! ! excellent teacher ! http ...        positive   \n",
              "\n",
              "       labeles_aspect2  \n",
              "0             negative  \n",
              "1              neutral  \n",
              "2              neutral  \n",
              "3             negative  \n",
              "4              neutral  \n",
              "...                ...  \n",
              "478770         neutral  \n",
              "478771         neutral  \n",
              "478772         neutral  \n",
              "478773         neutral  \n",
              "478774         neutral  \n",
              "\n",
              "[478775 rows x 4 columns]"
            ]
          },
          "execution_count": 35,
          "metadata": {},
          "output_type": "execute_result"
        }
      ],
      "source": [
        "df_data"
      ]
    },
    {
      "cell_type": "code",
      "execution_count": 36,
      "metadata": {
        "id": "FjcZECCWaGjs"
      },
      "outputs": [],
      "source": [
        "label_encoder = preprocessing.LabelEncoder()\n",
        "\n",
        "df_data['labeles_aspect2']= label_encoder.fit_transform(df_data['labeles_aspect2'])\n",
        "df_data['labeles_aspect1']= label_encoder.fit_transform(df_data['labeles_aspect1'])"
      ]
    },
    {
      "cell_type": "code",
      "execution_count": 37,
      "metadata": {
        "colab": {
          "base_uri": "https://localhost:8080/",
          "height": 423
        },
        "id": "TZIt1cKxaGVd",
        "outputId": "8b2da843-f27b-4ad0-8c2e-efa7807eb07b"
      },
      "outputs": [
        {
          "output_type": "execute_result",
          "data": {
            "text/plain": [
              "                                              Review Text  \\\n",
              "0       What you learn in the course is very basic. Th...   \n",
              "1       Too fast, the English is not clear, strong acc...   \n",
              "2       The instructor did not really do a good enough...   \n",
              "3       it's ok for understanding the basics. It distr...   \n",
              "4       The training was great. The instructor was kno...   \n",
              "...                                                   ...   \n",
              "478770  Fantastic class! I've learned python and enjoy...   \n",
              "478771  Great course material to get students up to sp...   \n",
              "478772  Really addictive and fun way to start learning...   \n",
              "478773  It's my best experience in a programing class....   \n",
              "478774  AMAZING course!!! Excellent instructors!\\n\\nht...   \n",
              "\n",
              "                                         Processed Review  labeles_aspect1  \\\n",
              "0       what you learn in the course is very basic . t...                1   \n",
              "1       too fast , the english is not clear , strong a...                1   \n",
              "2       the teacher did not really do a good enough jo...                0   \n",
              "3       it 's ok for understanding the basic . it dist...                1   \n",
              "4       the course wa great . the teacher wa knowledge...                1   \n",
              "...                                                   ...              ...   \n",
              "478770  fantastic course ! i 've learned python and en...                1   \n",
              "478771  great course course to get student up to speed...                1   \n",
              "478772  really addictive and fun way to start learning...                1   \n",
              "478773  it 's my best experience in a programing cours...                1   \n",
              "478774  amazing course ! ! ! excellent teacher ! http ...                2   \n",
              "\n",
              "        labeles_aspect2  \n",
              "0                     0  \n",
              "1                     1  \n",
              "2                     1  \n",
              "3                     0  \n",
              "4                     1  \n",
              "...                 ...  \n",
              "478770                1  \n",
              "478771                1  \n",
              "478772                1  \n",
              "478773                1  \n",
              "478774                1  \n",
              "\n",
              "[478775 rows x 4 columns]"
            ],
            "text/html": [
              "\n",
              "  <div id=\"df-2982b070-8db0-404e-8c47-c2468b184e38\" class=\"colab-df-container\">\n",
              "    <div>\n",
              "<style scoped>\n",
              "    .dataframe tbody tr th:only-of-type {\n",
              "        vertical-align: middle;\n",
              "    }\n",
              "\n",
              "    .dataframe tbody tr th {\n",
              "        vertical-align: top;\n",
              "    }\n",
              "\n",
              "    .dataframe thead th {\n",
              "        text-align: right;\n",
              "    }\n",
              "</style>\n",
              "<table border=\"1\" class=\"dataframe\">\n",
              "  <thead>\n",
              "    <tr style=\"text-align: right;\">\n",
              "      <th></th>\n",
              "      <th>Review Text</th>\n",
              "      <th>Processed Review</th>\n",
              "      <th>labeles_aspect1</th>\n",
              "      <th>labeles_aspect2</th>\n",
              "    </tr>\n",
              "  </thead>\n",
              "  <tbody>\n",
              "    <tr>\n",
              "      <th>0</th>\n",
              "      <td>What you learn in the course is very basic. Th...</td>\n",
              "      <td>what you learn in the course is very basic . t...</td>\n",
              "      <td>1</td>\n",
              "      <td>0</td>\n",
              "    </tr>\n",
              "    <tr>\n",
              "      <th>1</th>\n",
              "      <td>Too fast, the English is not clear, strong acc...</td>\n",
              "      <td>too fast , the english is not clear , strong a...</td>\n",
              "      <td>1</td>\n",
              "      <td>1</td>\n",
              "    </tr>\n",
              "    <tr>\n",
              "      <th>2</th>\n",
              "      <td>The instructor did not really do a good enough...</td>\n",
              "      <td>the teacher did not really do a good enough jo...</td>\n",
              "      <td>0</td>\n",
              "      <td>1</td>\n",
              "    </tr>\n",
              "    <tr>\n",
              "      <th>3</th>\n",
              "      <td>it's ok for understanding the basics. It distr...</td>\n",
              "      <td>it 's ok for understanding the basic . it dist...</td>\n",
              "      <td>1</td>\n",
              "      <td>0</td>\n",
              "    </tr>\n",
              "    <tr>\n",
              "      <th>4</th>\n",
              "      <td>The training was great. The instructor was kno...</td>\n",
              "      <td>the course wa great . the teacher wa knowledge...</td>\n",
              "      <td>1</td>\n",
              "      <td>1</td>\n",
              "    </tr>\n",
              "    <tr>\n",
              "      <th>...</th>\n",
              "      <td>...</td>\n",
              "      <td>...</td>\n",
              "      <td>...</td>\n",
              "      <td>...</td>\n",
              "    </tr>\n",
              "    <tr>\n",
              "      <th>478770</th>\n",
              "      <td>Fantastic class! I've learned python and enjoy...</td>\n",
              "      <td>fantastic course ! i 've learned python and en...</td>\n",
              "      <td>1</td>\n",
              "      <td>1</td>\n",
              "    </tr>\n",
              "    <tr>\n",
              "      <th>478771</th>\n",
              "      <td>Great course material to get students up to sp...</td>\n",
              "      <td>great course course to get student up to speed...</td>\n",
              "      <td>1</td>\n",
              "      <td>1</td>\n",
              "    </tr>\n",
              "    <tr>\n",
              "      <th>478772</th>\n",
              "      <td>Really addictive and fun way to start learning...</td>\n",
              "      <td>really addictive and fun way to start learning...</td>\n",
              "      <td>1</td>\n",
              "      <td>1</td>\n",
              "    </tr>\n",
              "    <tr>\n",
              "      <th>478773</th>\n",
              "      <td>It's my best experience in a programing class....</td>\n",
              "      <td>it 's my best experience in a programing cours...</td>\n",
              "      <td>1</td>\n",
              "      <td>1</td>\n",
              "    </tr>\n",
              "    <tr>\n",
              "      <th>478774</th>\n",
              "      <td>AMAZING course!!! Excellent instructors!\\n\\nht...</td>\n",
              "      <td>amazing course ! ! ! excellent teacher ! http ...</td>\n",
              "      <td>2</td>\n",
              "      <td>1</td>\n",
              "    </tr>\n",
              "  </tbody>\n",
              "</table>\n",
              "<p>478775 rows × 4 columns</p>\n",
              "</div>\n",
              "    <div class=\"colab-df-buttons\">\n",
              "\n",
              "  <div class=\"colab-df-container\">\n",
              "    <button class=\"colab-df-convert\" onclick=\"convertToInteractive('df-2982b070-8db0-404e-8c47-c2468b184e38')\"\n",
              "            title=\"Convert this dataframe to an interactive table.\"\n",
              "            style=\"display:none;\">\n",
              "\n",
              "  <svg xmlns=\"http://www.w3.org/2000/svg\" height=\"24px\" viewBox=\"0 -960 960 960\">\n",
              "    <path d=\"M120-120v-720h720v720H120Zm60-500h600v-160H180v160Zm220 220h160v-160H400v160Zm0 220h160v-160H400v160ZM180-400h160v-160H180v160Zm440 0h160v-160H620v160ZM180-180h160v-160H180v160Zm440 0h160v-160H620v160Z\"/>\n",
              "  </svg>\n",
              "    </button>\n",
              "\n",
              "  <style>\n",
              "    .colab-df-container {\n",
              "      display:flex;\n",
              "      gap: 12px;\n",
              "    }\n",
              "\n",
              "    .colab-df-convert {\n",
              "      background-color: #E8F0FE;\n",
              "      border: none;\n",
              "      border-radius: 50%;\n",
              "      cursor: pointer;\n",
              "      display: none;\n",
              "      fill: #1967D2;\n",
              "      height: 32px;\n",
              "      padding: 0 0 0 0;\n",
              "      width: 32px;\n",
              "    }\n",
              "\n",
              "    .colab-df-convert:hover {\n",
              "      background-color: #E2EBFA;\n",
              "      box-shadow: 0px 1px 2px rgba(60, 64, 67, 0.3), 0px 1px 3px 1px rgba(60, 64, 67, 0.15);\n",
              "      fill: #174EA6;\n",
              "    }\n",
              "\n",
              "    .colab-df-buttons div {\n",
              "      margin-bottom: 4px;\n",
              "    }\n",
              "\n",
              "    [theme=dark] .colab-df-convert {\n",
              "      background-color: #3B4455;\n",
              "      fill: #D2E3FC;\n",
              "    }\n",
              "\n",
              "    [theme=dark] .colab-df-convert:hover {\n",
              "      background-color: #434B5C;\n",
              "      box-shadow: 0px 1px 3px 1px rgba(0, 0, 0, 0.15);\n",
              "      filter: drop-shadow(0px 1px 2px rgba(0, 0, 0, 0.3));\n",
              "      fill: #FFFFFF;\n",
              "    }\n",
              "  </style>\n",
              "\n",
              "    <script>\n",
              "      const buttonEl =\n",
              "        document.querySelector('#df-2982b070-8db0-404e-8c47-c2468b184e38 button.colab-df-convert');\n",
              "      buttonEl.style.display =\n",
              "        google.colab.kernel.accessAllowed ? 'block' : 'none';\n",
              "\n",
              "      async function convertToInteractive(key) {\n",
              "        const element = document.querySelector('#df-2982b070-8db0-404e-8c47-c2468b184e38');\n",
              "        const dataTable =\n",
              "          await google.colab.kernel.invokeFunction('convertToInteractive',\n",
              "                                                    [key], {});\n",
              "        if (!dataTable) return;\n",
              "\n",
              "        const docLinkHtml = 'Like what you see? Visit the ' +\n",
              "          '<a target=\"_blank\" href=https://colab.research.google.com/notebooks/data_table.ipynb>data table notebook</a>'\n",
              "          + ' to learn more about interactive tables.';\n",
              "        element.innerHTML = '';\n",
              "        dataTable['output_type'] = 'display_data';\n",
              "        await google.colab.output.renderOutput(dataTable, element);\n",
              "        const docLink = document.createElement('div');\n",
              "        docLink.innerHTML = docLinkHtml;\n",
              "        element.appendChild(docLink);\n",
              "      }\n",
              "    </script>\n",
              "  </div>\n",
              "\n",
              "\n",
              "<div id=\"df-5d2311c4-f010-4cec-a87b-3e6f69f01e57\">\n",
              "  <button class=\"colab-df-quickchart\" onclick=\"quickchart('df-5d2311c4-f010-4cec-a87b-3e6f69f01e57')\"\n",
              "            title=\"Suggest charts\"\n",
              "            style=\"display:none;\">\n",
              "\n",
              "<svg xmlns=\"http://www.w3.org/2000/svg\" height=\"24px\"viewBox=\"0 0 24 24\"\n",
              "     width=\"24px\">\n",
              "    <g>\n",
              "        <path d=\"M19 3H5c-1.1 0-2 .9-2 2v14c0 1.1.9 2 2 2h14c1.1 0 2-.9 2-2V5c0-1.1-.9-2-2-2zM9 17H7v-7h2v7zm4 0h-2V7h2v10zm4 0h-2v-4h2v4z\"/>\n",
              "    </g>\n",
              "</svg>\n",
              "  </button>\n",
              "\n",
              "<style>\n",
              "  .colab-df-quickchart {\n",
              "      --bg-color: #E8F0FE;\n",
              "      --fill-color: #1967D2;\n",
              "      --hover-bg-color: #E2EBFA;\n",
              "      --hover-fill-color: #174EA6;\n",
              "      --disabled-fill-color: #AAA;\n",
              "      --disabled-bg-color: #DDD;\n",
              "  }\n",
              "\n",
              "  [theme=dark] .colab-df-quickchart {\n",
              "      --bg-color: #3B4455;\n",
              "      --fill-color: #D2E3FC;\n",
              "      --hover-bg-color: #434B5C;\n",
              "      --hover-fill-color: #FFFFFF;\n",
              "      --disabled-bg-color: #3B4455;\n",
              "      --disabled-fill-color: #666;\n",
              "  }\n",
              "\n",
              "  .colab-df-quickchart {\n",
              "    background-color: var(--bg-color);\n",
              "    border: none;\n",
              "    border-radius: 50%;\n",
              "    cursor: pointer;\n",
              "    display: none;\n",
              "    fill: var(--fill-color);\n",
              "    height: 32px;\n",
              "    padding: 0;\n",
              "    width: 32px;\n",
              "  }\n",
              "\n",
              "  .colab-df-quickchart:hover {\n",
              "    background-color: var(--hover-bg-color);\n",
              "    box-shadow: 0 1px 2px rgba(60, 64, 67, 0.3), 0 1px 3px 1px rgba(60, 64, 67, 0.15);\n",
              "    fill: var(--button-hover-fill-color);\n",
              "  }\n",
              "\n",
              "  .colab-df-quickchart-complete:disabled,\n",
              "  .colab-df-quickchart-complete:disabled:hover {\n",
              "    background-color: var(--disabled-bg-color);\n",
              "    fill: var(--disabled-fill-color);\n",
              "    box-shadow: none;\n",
              "  }\n",
              "\n",
              "  .colab-df-spinner {\n",
              "    border: 2px solid var(--fill-color);\n",
              "    border-color: transparent;\n",
              "    border-bottom-color: var(--fill-color);\n",
              "    animation:\n",
              "      spin 1s steps(1) infinite;\n",
              "  }\n",
              "\n",
              "  @keyframes spin {\n",
              "    0% {\n",
              "      border-color: transparent;\n",
              "      border-bottom-color: var(--fill-color);\n",
              "      border-left-color: var(--fill-color);\n",
              "    }\n",
              "    20% {\n",
              "      border-color: transparent;\n",
              "      border-left-color: var(--fill-color);\n",
              "      border-top-color: var(--fill-color);\n",
              "    }\n",
              "    30% {\n",
              "      border-color: transparent;\n",
              "      border-left-color: var(--fill-color);\n",
              "      border-top-color: var(--fill-color);\n",
              "      border-right-color: var(--fill-color);\n",
              "    }\n",
              "    40% {\n",
              "      border-color: transparent;\n",
              "      border-right-color: var(--fill-color);\n",
              "      border-top-color: var(--fill-color);\n",
              "    }\n",
              "    60% {\n",
              "      border-color: transparent;\n",
              "      border-right-color: var(--fill-color);\n",
              "    }\n",
              "    80% {\n",
              "      border-color: transparent;\n",
              "      border-right-color: var(--fill-color);\n",
              "      border-bottom-color: var(--fill-color);\n",
              "    }\n",
              "    90% {\n",
              "      border-color: transparent;\n",
              "      border-bottom-color: var(--fill-color);\n",
              "    }\n",
              "  }\n",
              "</style>\n",
              "\n",
              "  <script>\n",
              "    async function quickchart(key) {\n",
              "      const quickchartButtonEl =\n",
              "        document.querySelector('#' + key + ' button');\n",
              "      quickchartButtonEl.disabled = true;  // To prevent multiple clicks.\n",
              "      quickchartButtonEl.classList.add('colab-df-spinner');\n",
              "      try {\n",
              "        const charts = await google.colab.kernel.invokeFunction(\n",
              "            'suggestCharts', [key], {});\n",
              "      } catch (error) {\n",
              "        console.error('Error during call to suggestCharts:', error);\n",
              "      }\n",
              "      quickchartButtonEl.classList.remove('colab-df-spinner');\n",
              "      quickchartButtonEl.classList.add('colab-df-quickchart-complete');\n",
              "    }\n",
              "    (() => {\n",
              "      let quickchartButtonEl =\n",
              "        document.querySelector('#df-5d2311c4-f010-4cec-a87b-3e6f69f01e57 button');\n",
              "      quickchartButtonEl.style.display =\n",
              "        google.colab.kernel.accessAllowed ? 'block' : 'none';\n",
              "    })();\n",
              "  </script>\n",
              "</div>\n",
              "    </div>\n",
              "  </div>\n"
            ]
          },
          "metadata": {},
          "execution_count": 37
        }
      ],
      "source": [
        "df_data"
      ]
    },
    {
      "cell_type": "code",
      "execution_count": 50,
      "metadata": {
        "id": "4HtT--xhUSgK"
      },
      "outputs": [],
      "source": [
        "# df_data.to_csv('/content/drive/MyDrive/ASC/0-1000 APP Courses.csv' , index= False)"
      ]
    },
    {
      "cell_type": "code",
      "execution_count": 8,
      "metadata": {
        "id": "PpQdQNUd5PjU",
        "colab": {
          "base_uri": "https://localhost:8080/",
          "height": 225
        },
        "outputId": "36de5660-f093-4022-dd53-a473a1f21432"
      },
      "outputs": [
        {
          "output_type": "stream",
          "name": "stdout",
          "text": [
            "478773\n"
          ]
        },
        {
          "output_type": "execute_result",
          "data": {
            "text/plain": [
              "                                         Review Text  \\\n",
              "0  What you learn in the course is very basic. Th...   \n",
              "1  Too fast, the English is not clear, strong acc...   \n",
              "2  The instructor did not really do a good enough...   \n",
              "3  it's ok for understanding the basics. It distr...   \n",
              "4  The training was great. The instructor was kno...   \n",
              "\n",
              "                                    Processed Review  labeles_aspect1  \\\n",
              "0  what you learn in the course is very basic . t...                1   \n",
              "1  too fast , the english is not clear , strong a...                1   \n",
              "2  the teacher did not really do a good enough jo...                0   \n",
              "3  it 's ok for understanding the basic . it dist...                1   \n",
              "4  the course wa great . the teacher wa knowledge...                1   \n",
              "\n",
              "   labeles_aspect2  \n",
              "0                0  \n",
              "1                1  \n",
              "2                1  \n",
              "3                0  \n",
              "4                1  "
            ],
            "text/html": [
              "\n",
              "  <div id=\"df-0a4d387d-a7df-4c4a-b300-67af40681e41\" class=\"colab-df-container\">\n",
              "    <div>\n",
              "<style scoped>\n",
              "    .dataframe tbody tr th:only-of-type {\n",
              "        vertical-align: middle;\n",
              "    }\n",
              "\n",
              "    .dataframe tbody tr th {\n",
              "        vertical-align: top;\n",
              "    }\n",
              "\n",
              "    .dataframe thead th {\n",
              "        text-align: right;\n",
              "    }\n",
              "</style>\n",
              "<table border=\"1\" class=\"dataframe\">\n",
              "  <thead>\n",
              "    <tr style=\"text-align: right;\">\n",
              "      <th></th>\n",
              "      <th>Review Text</th>\n",
              "      <th>Processed Review</th>\n",
              "      <th>labeles_aspect1</th>\n",
              "      <th>labeles_aspect2</th>\n",
              "    </tr>\n",
              "  </thead>\n",
              "  <tbody>\n",
              "    <tr>\n",
              "      <th>0</th>\n",
              "      <td>What you learn in the course is very basic. Th...</td>\n",
              "      <td>what you learn in the course is very basic . t...</td>\n",
              "      <td>1</td>\n",
              "      <td>0</td>\n",
              "    </tr>\n",
              "    <tr>\n",
              "      <th>1</th>\n",
              "      <td>Too fast, the English is not clear, strong acc...</td>\n",
              "      <td>too fast , the english is not clear , strong a...</td>\n",
              "      <td>1</td>\n",
              "      <td>1</td>\n",
              "    </tr>\n",
              "    <tr>\n",
              "      <th>2</th>\n",
              "      <td>The instructor did not really do a good enough...</td>\n",
              "      <td>the teacher did not really do a good enough jo...</td>\n",
              "      <td>0</td>\n",
              "      <td>1</td>\n",
              "    </tr>\n",
              "    <tr>\n",
              "      <th>3</th>\n",
              "      <td>it's ok for understanding the basics. It distr...</td>\n",
              "      <td>it 's ok for understanding the basic . it dist...</td>\n",
              "      <td>1</td>\n",
              "      <td>0</td>\n",
              "    </tr>\n",
              "    <tr>\n",
              "      <th>4</th>\n",
              "      <td>The training was great. The instructor was kno...</td>\n",
              "      <td>the course wa great . the teacher wa knowledge...</td>\n",
              "      <td>1</td>\n",
              "      <td>1</td>\n",
              "    </tr>\n",
              "  </tbody>\n",
              "</table>\n",
              "</div>\n",
              "    <div class=\"colab-df-buttons\">\n",
              "\n",
              "  <div class=\"colab-df-container\">\n",
              "    <button class=\"colab-df-convert\" onclick=\"convertToInteractive('df-0a4d387d-a7df-4c4a-b300-67af40681e41')\"\n",
              "            title=\"Convert this dataframe to an interactive table.\"\n",
              "            style=\"display:none;\">\n",
              "\n",
              "  <svg xmlns=\"http://www.w3.org/2000/svg\" height=\"24px\" viewBox=\"0 -960 960 960\">\n",
              "    <path d=\"M120-120v-720h720v720H120Zm60-500h600v-160H180v160Zm220 220h160v-160H400v160Zm0 220h160v-160H400v160ZM180-400h160v-160H180v160Zm440 0h160v-160H620v160ZM180-180h160v-160H180v160Zm440 0h160v-160H620v160Z\"/>\n",
              "  </svg>\n",
              "    </button>\n",
              "\n",
              "  <style>\n",
              "    .colab-df-container {\n",
              "      display:flex;\n",
              "      gap: 12px;\n",
              "    }\n",
              "\n",
              "    .colab-df-convert {\n",
              "      background-color: #E8F0FE;\n",
              "      border: none;\n",
              "      border-radius: 50%;\n",
              "      cursor: pointer;\n",
              "      display: none;\n",
              "      fill: #1967D2;\n",
              "      height: 32px;\n",
              "      padding: 0 0 0 0;\n",
              "      width: 32px;\n",
              "    }\n",
              "\n",
              "    .colab-df-convert:hover {\n",
              "      background-color: #E2EBFA;\n",
              "      box-shadow: 0px 1px 2px rgba(60, 64, 67, 0.3), 0px 1px 3px 1px rgba(60, 64, 67, 0.15);\n",
              "      fill: #174EA6;\n",
              "    }\n",
              "\n",
              "    .colab-df-buttons div {\n",
              "      margin-bottom: 4px;\n",
              "    }\n",
              "\n",
              "    [theme=dark] .colab-df-convert {\n",
              "      background-color: #3B4455;\n",
              "      fill: #D2E3FC;\n",
              "    }\n",
              "\n",
              "    [theme=dark] .colab-df-convert:hover {\n",
              "      background-color: #434B5C;\n",
              "      box-shadow: 0px 1px 3px 1px rgba(0, 0, 0, 0.15);\n",
              "      filter: drop-shadow(0px 1px 2px rgba(0, 0, 0, 0.3));\n",
              "      fill: #FFFFFF;\n",
              "    }\n",
              "  </style>\n",
              "\n",
              "    <script>\n",
              "      const buttonEl =\n",
              "        document.querySelector('#df-0a4d387d-a7df-4c4a-b300-67af40681e41 button.colab-df-convert');\n",
              "      buttonEl.style.display =\n",
              "        google.colab.kernel.accessAllowed ? 'block' : 'none';\n",
              "\n",
              "      async function convertToInteractive(key) {\n",
              "        const element = document.querySelector('#df-0a4d387d-a7df-4c4a-b300-67af40681e41');\n",
              "        const dataTable =\n",
              "          await google.colab.kernel.invokeFunction('convertToInteractive',\n",
              "                                                    [key], {});\n",
              "        if (!dataTable) return;\n",
              "\n",
              "        const docLinkHtml = 'Like what you see? Visit the ' +\n",
              "          '<a target=\"_blank\" href=https://colab.research.google.com/notebooks/data_table.ipynb>data table notebook</a>'\n",
              "          + ' to learn more about interactive tables.';\n",
              "        element.innerHTML = '';\n",
              "        dataTable['output_type'] = 'display_data';\n",
              "        await google.colab.output.renderOutput(dataTable, element);\n",
              "        const docLink = document.createElement('div');\n",
              "        docLink.innerHTML = docLinkHtml;\n",
              "        element.appendChild(docLink);\n",
              "      }\n",
              "    </script>\n",
              "  </div>\n",
              "\n",
              "\n",
              "<div id=\"df-d8355923-ea34-49fc-be70-0a8d1f81a7d7\">\n",
              "  <button class=\"colab-df-quickchart\" onclick=\"quickchart('df-d8355923-ea34-49fc-be70-0a8d1f81a7d7')\"\n",
              "            title=\"Suggest charts\"\n",
              "            style=\"display:none;\">\n",
              "\n",
              "<svg xmlns=\"http://www.w3.org/2000/svg\" height=\"24px\"viewBox=\"0 0 24 24\"\n",
              "     width=\"24px\">\n",
              "    <g>\n",
              "        <path d=\"M19 3H5c-1.1 0-2 .9-2 2v14c0 1.1.9 2 2 2h14c1.1 0 2-.9 2-2V5c0-1.1-.9-2-2-2zM9 17H7v-7h2v7zm4 0h-2V7h2v10zm4 0h-2v-4h2v4z\"/>\n",
              "    </g>\n",
              "</svg>\n",
              "  </button>\n",
              "\n",
              "<style>\n",
              "  .colab-df-quickchart {\n",
              "      --bg-color: #E8F0FE;\n",
              "      --fill-color: #1967D2;\n",
              "      --hover-bg-color: #E2EBFA;\n",
              "      --hover-fill-color: #174EA6;\n",
              "      --disabled-fill-color: #AAA;\n",
              "      --disabled-bg-color: #DDD;\n",
              "  }\n",
              "\n",
              "  [theme=dark] .colab-df-quickchart {\n",
              "      --bg-color: #3B4455;\n",
              "      --fill-color: #D2E3FC;\n",
              "      --hover-bg-color: #434B5C;\n",
              "      --hover-fill-color: #FFFFFF;\n",
              "      --disabled-bg-color: #3B4455;\n",
              "      --disabled-fill-color: #666;\n",
              "  }\n",
              "\n",
              "  .colab-df-quickchart {\n",
              "    background-color: var(--bg-color);\n",
              "    border: none;\n",
              "    border-radius: 50%;\n",
              "    cursor: pointer;\n",
              "    display: none;\n",
              "    fill: var(--fill-color);\n",
              "    height: 32px;\n",
              "    padding: 0;\n",
              "    width: 32px;\n",
              "  }\n",
              "\n",
              "  .colab-df-quickchart:hover {\n",
              "    background-color: var(--hover-bg-color);\n",
              "    box-shadow: 0 1px 2px rgba(60, 64, 67, 0.3), 0 1px 3px 1px rgba(60, 64, 67, 0.15);\n",
              "    fill: var(--button-hover-fill-color);\n",
              "  }\n",
              "\n",
              "  .colab-df-quickchart-complete:disabled,\n",
              "  .colab-df-quickchart-complete:disabled:hover {\n",
              "    background-color: var(--disabled-bg-color);\n",
              "    fill: var(--disabled-fill-color);\n",
              "    box-shadow: none;\n",
              "  }\n",
              "\n",
              "  .colab-df-spinner {\n",
              "    border: 2px solid var(--fill-color);\n",
              "    border-color: transparent;\n",
              "    border-bottom-color: var(--fill-color);\n",
              "    animation:\n",
              "      spin 1s steps(1) infinite;\n",
              "  }\n",
              "\n",
              "  @keyframes spin {\n",
              "    0% {\n",
              "      border-color: transparent;\n",
              "      border-bottom-color: var(--fill-color);\n",
              "      border-left-color: var(--fill-color);\n",
              "    }\n",
              "    20% {\n",
              "      border-color: transparent;\n",
              "      border-left-color: var(--fill-color);\n",
              "      border-top-color: var(--fill-color);\n",
              "    }\n",
              "    30% {\n",
              "      border-color: transparent;\n",
              "      border-left-color: var(--fill-color);\n",
              "      border-top-color: var(--fill-color);\n",
              "      border-right-color: var(--fill-color);\n",
              "    }\n",
              "    40% {\n",
              "      border-color: transparent;\n",
              "      border-right-color: var(--fill-color);\n",
              "      border-top-color: var(--fill-color);\n",
              "    }\n",
              "    60% {\n",
              "      border-color: transparent;\n",
              "      border-right-color: var(--fill-color);\n",
              "    }\n",
              "    80% {\n",
              "      border-color: transparent;\n",
              "      border-right-color: var(--fill-color);\n",
              "      border-bottom-color: var(--fill-color);\n",
              "    }\n",
              "    90% {\n",
              "      border-color: transparent;\n",
              "      border-bottom-color: var(--fill-color);\n",
              "    }\n",
              "  }\n",
              "</style>\n",
              "\n",
              "  <script>\n",
              "    async function quickchart(key) {\n",
              "      const quickchartButtonEl =\n",
              "        document.querySelector('#' + key + ' button');\n",
              "      quickchartButtonEl.disabled = true;  // To prevent multiple clicks.\n",
              "      quickchartButtonEl.classList.add('colab-df-spinner');\n",
              "      try {\n",
              "        const charts = await google.colab.kernel.invokeFunction(\n",
              "            'suggestCharts', [key], {});\n",
              "      } catch (error) {\n",
              "        console.error('Error during call to suggestCharts:', error);\n",
              "      }\n",
              "      quickchartButtonEl.classList.remove('colab-df-spinner');\n",
              "      quickchartButtonEl.classList.add('colab-df-quickchart-complete');\n",
              "    }\n",
              "    (() => {\n",
              "      let quickchartButtonEl =\n",
              "        document.querySelector('#df-d8355923-ea34-49fc-be70-0a8d1f81a7d7 button');\n",
              "      quickchartButtonEl.style.display =\n",
              "        google.colab.kernel.accessAllowed ? 'block' : 'none';\n",
              "    })();\n",
              "  </script>\n",
              "</div>\n",
              "    </div>\n",
              "  </div>\n"
            ]
          },
          "metadata": {},
          "execution_count": 8
        }
      ],
      "source": [
        "chunk_size = 1000  # Adjust the size as needed\n",
        "chunks = pd.read_csv('/content/drive/MyDrive/ASC/0-1000 APP Courses.csv', chunksize=chunk_size)\n",
        "df_data = pd.concat(chunks)\n",
        "df_data = df_data.dropna()\n",
        "#df_data = df_data.drop('Unnamed: 0', axis=1)\n",
        "\n",
        "print(len(df_data))\n",
        "df_data.head(5)"
      ]
    },
    {
      "cell_type": "markdown",
      "source": [
        "\n",
        "\n",
        "---\n",
        "\n",
        "\n",
        "# Plot bar and pie charts to visualize the distribution of sentiments in the given data.\n",
        "\n",
        "### Args:\n",
        " * data (pd.Series): Pandas Series containing sentiment values.\n",
        " * title (str): Title for the overall plot.\n",
        "\n",
        " * Returns:\n",
        "    None\n",
        "\n",
        " * Raises:\n",
        "      ValueError: If the input data is empty.\n",
        "\n",
        "### Example:\n",
        "\n",
        "\n",
        "\n",
        "```\n",
        "     import pandas as pd\n",
        "     import numpy as np\n",
        "     data = pd.Series([1, 0, 2, 1, 2, 0, 1, 2])\n",
        "     plot_bar_and_pie(data, 'Sentiment Distribution')\n",
        "```\n",
        "\n",
        "\n",
        "\n",
        "\n",
        "---\n",
        "\n",
        "\n",
        "\n"
      ],
      "metadata": {
        "id": "oANCw-FENRzV"
      }
    },
    {
      "cell_type": "code",
      "execution_count": 9,
      "metadata": {
        "id": "ViRrCfbFBaeD"
      },
      "outputs": [],
      "source": [
        "def plot_bar_and_pie(data : pd.Series , title ):\n",
        "  # Map labels to corresponding sentiment names\n",
        "  sentiment_mapping = {1: 'Neutral', 0: 'Negative', 2: 'Positive'}\n",
        "  data_mapped = data.map(sentiment_mapping)\n",
        "\n",
        "  # Create subplots\n",
        "  fig, axs = plt.subplots(1, 2, figsize=(12, 4))\n",
        "\n",
        "  # Plot bar chart\n",
        "  unique_values, counts = np.unique(data_mapped, return_counts=True)\n",
        "  axs[0].bar(unique_values, counts, color=['blue', 'green', 'red'])\n",
        "  axs[0].set_title('Bar Chart')\n",
        "  for i, count in enumerate(counts):\n",
        "      axs[0].text(i, count + 0.1, str(count), ha='center')\n",
        "\n",
        "  # Plot pie chart\n",
        "  axs[1].pie(counts, labels=[f'{val} ({count})' for val, count in zip(unique_values, counts)], autopct='%1.1f%%', colors=['blue', 'green', 'red'])\n",
        "  axs[1].set_title('Pie Chart')\n",
        "\n",
        "  fig.suptitle(title)\n",
        "  # Adjust layout\n",
        "  plt.tight_layout()\n",
        "\n",
        "  # Show the plots\n",
        "  plt.show()\n"
      ]
    },
    {
      "cell_type": "code",
      "execution_count": 17,
      "metadata": {
        "id": "zrD7zLoDGMj3"
      },
      "outputs": [],
      "source": [
        "filtered1_data_labeles_aspect1 = df_data[df_data['labeles_aspect1'] == 0].head(1000)\n",
        "\n",
        "# Get the first 1000 rows where 'labeles_aspect2' is equal to 1\n",
        "filtered1_data_labeles_aspect2 = df_data[df_data['labeles_aspect2'] == 0].head(1000)\n",
        "\n",
        "filtered2_data_labeles_aspect1 = df_data[df_data['labeles_aspect1'] == 2].head(1000)\n",
        "\n",
        "filtered2_data_labeles_aspect2 = df_data[df_data['labeles_aspect2'] == 2].head(1100)\n",
        "\n",
        "# Concatenate the two results\n",
        "result_data = pd.concat([filtered1_data_labeles_aspect1, filtered1_data_labeles_aspect2,\n",
        "                         filtered2_data_labeles_aspect1, filtered2_data_labeles_aspect2])\n",
        "\n",
        "result_data = result_data.drop_duplicates()\n"
      ]
    },
    {
      "cell_type": "markdown",
      "metadata": {
        "id": "7z-iIkMimYTE"
      },
      "source": [
        "# visualization for teacher aspect"
      ]
    },
    {
      "cell_type": "code",
      "execution_count": 18,
      "metadata": {
        "id": "xv2ZBuCtdR_7",
        "colab": {
          "base_uri": "https://localhost:8080/",
          "height": 385
        },
        "outputId": "70b0ca69-8f97-4619-f44e-7ac4159024c9"
      },
      "outputs": [
        {
          "output_type": "display_data",
          "data": {
            "text/plain": [
              "<Figure size 1200x400 with 2 Axes>"
            ],
            "image/png": "[encoded data removed]"
          },
          "metadata": {}
        }
      ],
      "source": [
        "plot_bar_and_pie(result_data['labeles_aspect1'] ,'Teacher Aspect Sentiment')"
      ]
    },
    {
      "cell_type": "markdown",
      "metadata": {
        "id": "gD50whWRml_8"
      },
      "source": [
        "# visualization for course aspect"
      ]
    },
    {
      "cell_type": "code",
      "execution_count": 19,
      "metadata": {
        "id": "l7aAGGjHeoie",
        "colab": {
          "base_uri": "https://localhost:8080/",
          "height": 394
        },
        "outputId": "e14c8177-3b1e-45e4-c394-45a771ca1a02"
      },
      "outputs": [
        {
          "output_type": "display_data",
          "data": {
            "text/plain": [
              "<Figure size 1200x400 with 2 Axes>"
            ],
            "image/png": "[encoded data removed]"
          },
          "metadata": {}
        }
      ],
      "source": [
        "plot_bar_and_pie(result_data['labeles_aspect2'] , 'Course Aspect Sentiment')"
      ]
    },
    {
      "cell_type": "code",
      "execution_count": 13,
      "metadata": {
        "id": "E-1gy-B4ALJD",
        "colab": {
          "base_uri": "https://localhost:8080/"
        },
        "outputId": "c87acbd5-20b6-4457-d16a-4e56a6c50243"
      },
      "outputs": [
        {
          "output_type": "execute_result",
          "data": {
            "text/plain": [
              "422032"
            ]
          },
          "metadata": {},
          "execution_count": 13
        }
      ],
      "source": [
        "len(df_data[(df_data[\"labeles_aspect1\"] == 1) & (df_data[\"labeles_aspect2\"] == 1)])"
      ]
    },
    {
      "cell_type": "code",
      "source": [
        "len(df_data)"
      ],
      "metadata": {
        "colab": {
          "base_uri": "https://localhost:8080/"
        },
        "id": "x_4ChBdCG4ru",
        "outputId": "1e06696c-2b1f-411a-b9b3-b35400096d04"
      },
      "execution_count": 14,
      "outputs": [
        {
          "output_type": "execute_result",
          "data": {
            "text/plain": [
              "478773"
            ]
          },
          "metadata": {},
          "execution_count": 14
        }
      ]
    },
    {
      "cell_type": "code",
      "source": [
        "plot_bar_and_pie(df_data['labeles_aspect1'] ,'Teacher Aspect Sentiment')"
      ],
      "metadata": {
        "colab": {
          "base_uri": "https://localhost:8080/",
          "height": 379
        },
        "id": "0Iw5Zz7mHcSa",
        "outputId": "61d0e0bd-3c1f-4fe2-a47f-8b538722f763"
      },
      "execution_count": 20,
      "outputs": [
        {
          "output_type": "display_data",
          "data": {
            "text/plain": [
              "<Figure size 1200x400 with 2 Axes>"
            ],
            "image/png": "[encoded data removed]"
          },
          "metadata": {}
        }
      ]
    },
    {
      "cell_type": "code",
      "source": [
        "plot_bar_and_pie(df_data['labeles_aspect2'] , 'Course Aspect Sentiment')"
      ],
      "metadata": {
        "colab": {
          "base_uri": "https://localhost:8080/",
          "height": 378
        },
        "id": "IPg5h0HYbfSV",
        "outputId": "dc7555fc-9513-4dbe-bb01-ea4d8f86ea12"
      },
      "execution_count": 21,
      "outputs": [
        {
          "output_type": "display_data",
          "data": {
            "text/plain": [
              "<Figure size 1200x400 with 2 Axes>"
            ],
            "image/png": "[encoded data removed]"
          },
          "metadata": {}
        }
      ]
    },
    {
      "cell_type": "code",
      "source": [],
      "metadata": {
        "id": "LClNFeN0c4Rq"
      },
      "execution_count": null,
      "outputs": []
    },
    {
      "cell_type": "code",
      "source": [],
      "metadata": {
        "id": "yoPBDJ-dzfQz"
      },
      "execution_count": null,
      "outputs": []
    },
    {
      "cell_type": "code",
      "source": [],
      "metadata": {
        "id": "G0utogHyzfNl"
      },
      "execution_count": null,
      "outputs": []
    },
    {
      "cell_type": "code",
      "source": [],
      "metadata": {
        "id": "rDe9smldzfJa"
      },
      "execution_count": null,
      "outputs": []
    }
  ],
  "metadata": {
    "colab": {
      "provenance": [],
      "toc_visible": true
    },
    "kaggle": {
      "accelerator": "none",
      "dataSources": [
        {
          "datasetId": 4191634,
          "sourceId": 7252927,
          "sourceType": "datasetVersion"
        }
      ],
      "dockerImageVersionId": 30626,
      "isGpuEnabled": false,
      "isInternetEnabled": true,
      "language": "python",
      "sourceType": "notebook"
    },
    "kernelspec": {
      "display_name": "Python 3",
      "name": "python3"
    },
    "language_info": {
      "codemirror_mode": {
        "name": "ipython",
        "version": 3
      },
      "file_extension": ".py",
      "mimetype": "text/x-python",
      "name": "python",
      "nbconvert_exporter": "python",
      "pygments_lexer": "ipython3",
      "version": "3.10.12"
    }
  },
  "nbformat": 4,
  "nbformat_minor": 0
}