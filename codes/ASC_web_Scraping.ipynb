{
  "cells": [
    {
      "cell_type": "markdown",
      "source": [
        "# import Libraries"
      ],
      "metadata": {
        "id": "zorDUefJVaM_"
      }
    },
    {
      "cell_type": "code",
      "execution_count": null,
      "metadata": {
        "id": "WzE2_d_dTGyE"
      },
      "outputs": [],
      "source": [
        "!sudo apt install poppler-utils"
      ]
    },
    {
      "cell_type": "code",
      "execution_count": null,
      "metadata": {
        "id": "V17wGuw5TacM"
      },
      "outputs": [],
      "source": [
        "!sudo apt-get install build-essential"
      ]
    },
    {
      "cell_type": "code",
      "execution_count": null,
      "metadata": {
        "id": "n9sbe9PPTcIG"
      },
      "outputs": [],
      "source": [
        "!sudo apt install -y gconf-service libasound2 libatk1.0-0 libc6 libcairo2 libcups2 libdbus-1-3 libexpat1 libfontconfig1 libgcc1 libgconf-2-4 libgdk-pixbuf2.0-0 libglib2.0-0 libgtk-3-0 libnspr4 libpango-1.0-0 libpangocairo-1.0-0 libstdc++6 libx11-6 libx11-xcb1 libxcb1 libxcomposite1 libxcursor1 libxdamage1 libxext6 libxfixes3 libxi6 libxrandr2 libxrender1 libxss1 libxtst6 ca-certificates fonts-liberation libappindicator1 libnss3 lsb-release xdg-utils wget libgbm-dev"
      ]
    },
    {
      "cell_type": "code",
      "execution_count": null,
      "metadata": {
        "id": "kTk7JSgQTfOd"
      },
      "outputs": [],
      "source": [
        "!pip install pyppeteer\n",
        "import asyncio\n",
        "from pyppeteer import launch\n",
        "import pandas as pd\n",
        "import datetime"
      ]
    },
    {
      "cell_type": "markdown",
      "source": [
        "# Test for library"
      ],
      "metadata": {
        "id": "YDYWx0Z6VvJV"
      }
    },
    {
      "cell_type": "code",
      "execution_count": null,
      "metadata": {
        "colab": {
          "base_uri": "https://localhost:8080/"
        },
        "id": "yiWXHp9aTi4a",
        "outputId": "42995023-a548-4d61-e2a2-e7ba19fca6cf"
      },
      "outputs": [
        {
          "name": "stderr",
          "output_type": "stream",
          "text": [
            "[INFO] Starting Chromium download.\n",
            "INFO:pyppeteer.chromium_downloader:Starting Chromium download.\n",
            "100%|██████████| 109M/109M [00:00<00:00, 125Mb/s]\n",
            "[INFO] Beginning extraction\n",
            "INFO:pyppeteer.chromium_downloader:Beginning extraction\n",
            "[INFO] Chromium extracted to: /root/.local/share/pyppeteer/local-chromium/588429\n",
            "INFO:pyppeteer.chromium_downloader:Chromium extracted to: /root/.local/share/pyppeteer/local-chromium/588429\n"
          ]
        }
      ],
      "source": [
        "import asyncio\n",
        "import nest_asyncio\n",
        "from pyppeteer import launch\n",
        "\n",
        "nest_asyncio.apply()\n",
        "\n",
        "async def main():\n",
        "    browser = await launch({\n",
        "        'headless': True,\n",
        "        'args': [\n",
        "            '--no-sandbox',\n",
        "            '--disable-setuid-sandbox',\n",
        "            '--single-process',\n",
        "            '--no-zygote',\n",
        "        ],\n",
        "    })\n",
        "    page = await browser.newPage()\n",
        "    await page.goto('http://example.com')\n",
        "    await page.screenshot({'path': 'example.png'})\n",
        "    await browser.close()\n",
        "\n",
        "asyncio.get_event_loop().run_until_complete(main())"
      ]
    },
    {
      "cell_type": "markdown",
      "metadata": {
        "id": "9AX5_0rPkkMb"
      },
      "source": [
        "# Get urls for all courses"
      ]
    },
    {
      "cell_type": "markdown",
      "source": [
        "Here, we have brought the titles of all the free courses on the Coursera platform, and they numbered a thousand courses."
      ],
      "metadata": {
        "id": "O5it-PXNWn3s"
      }
    },
    {
      "cell_type": "code",
      "execution_count": null,
      "metadata": {
        "id": "vs5OwnzDArjn"
      },
      "outputs": [],
      "source": [
        "async def extract_ratings(numberOfPage):\n",
        "    browser = await launch({\n",
        "        'headless': True,\n",
        "        'args': [\n",
        "            '--no-sandbox',\n",
        "            '--disable-setuid-sandbox',\n",
        "            '--single-process',\n",
        "            '--no-zygote',\n",
        "        ],\n",
        "    })\n",
        "    page = await browser.newPage()\n",
        "    url = f'https://www.coursera.org/courses?query=free&page={numberOfPage}'\n",
        "    await page.goto(url)\n",
        "\n",
        "    # Assuming you are selecting elements using a CSS selector\n",
        "    rating_elements = await page.querySelectorAll('.css-11uuo4b')  # Update with the correct CSS selector\n",
        "\n",
        "    # Collect all ratings\n",
        "    ratings = []\n",
        "    for element in rating_elements:\n",
        "        rating_handle = await element.getProperty('textContent')\n",
        "        rating = await rating_handle.jsonValue()\n",
        "        ratings.append(rating)\n",
        "\n",
        "    # Assuming you are selecting elements using a CSS selector\n",
        "    elements = await page.querySelectorAll('.cds-CommonCard-titleLink')  # Update with the correct CSS selector\n",
        "\n",
        "    # Collect all URLs\n",
        "    urls = []\n",
        "    for element in elements:\n",
        "        url_handle = await element.getProperty('href')\n",
        "        url = await url_handle.jsonValue()\n",
        "        urls.append(url)\n",
        "\n",
        "    await browser.close()\n",
        "    return ratings,urls\n",
        "\n"
      ]
    },
    {
      "cell_type": "code",
      "execution_count": null,
      "metadata": {
        "id": "bvZnWWkYDF2y"
      },
      "outputs": [],
      "source": [
        "# Threshold for filtering ratings\n",
        "filtered_urls = []\n",
        "for numberOfPage in range(1,85):\n",
        "    ratings,urls = asyncio.get_event_loop().run_until_complete(extract_ratings(numberOfPage))\n",
        "    # Create a new list to store URLs with ratings below the threshold\n",
        "    filtered_urls += urls#[url for rating, url in zip(ratings, urls) if float(rating) < threshold]"
      ]
    },
    {
      "cell_type": "code",
      "execution_count": null,
      "metadata": {
        "colab": {
          "base_uri": "https://localhost:8080/"
        },
        "id": "XVZyggLvEAiE",
        "outputId": "0ecc4173-e975-458c-d7b7-c1a0d2d73290"
      },
      "outputs": [
        {
          "data": {
            "text/plain": [
              "['https://www.coursera.org/specializations/gpu-programming',\n",
              " 'https://www.coursera.org/specializations/human-resource-management',\n",
              " 'https://www.coursera.org/learn/protect-and-grow-your-business',\n",
              " 'https://www.coursera.org/learn/instructional-design-foundations-applications',\n",
              " 'https://www.coursera.org/specializations/machine-learning-trading',\n",
              " 'https://www.coursera.org/learn/finance-fundamentals',\n",
              " 'https://www.coursera.org/specializations/software-architecture-big-data',\n",
              " 'https://www.coursera.org/specializations/mlops-machine-learning-duke',\n",
              " 'https://www.coursera.org/learn/rust-fundamentals',\n",
              " 'https://www.coursera.org/specializations/advanced-leadership-skills',\n",
              " 'https://www.coursera.org/specializations/advanced-embedded-linux-development',\n",
              " 'https://www.coursera.org/specializations/deep-learning-healthcare',\n",
              " 'https://www.coursera.org/professional-certificates/google-it-support-korean',\n",
              " 'https://www.coursera.org/specializations/machine-learning-reinforcement-finance']"
            ]
          },
          "execution_count": 43,
          "metadata": {},
          "output_type": "execute_result"
        }
      ],
      "source": [
        "filtered_urls[:10]"
      ]
    },
    {
      "cell_type": "code",
      "execution_count": null,
      "metadata": {
        "colab": {
          "base_uri": "https://localhost:8080/"
        },
        "id": "sbdrs_iwG72Z",
        "outputId": "04ff0745-16a8-43f8-9912-cf09394c57f9"
      },
      "outputs": [
        {
          "data": {
            "text/plain": [
              "1000"
            ]
          },
          "execution_count": 58,
          "metadata": {},
          "output_type": "execute_result"
        }
      ],
      "source": [
        "len(filtered_urls)"
      ]
    },
    {
      "cell_type": "markdown",
      "source": [
        "saved that urls in txt file"
      ],
      "metadata": {
        "id": "YYMMZmviXOc2"
      }
    },
    {
      "cell_type": "code",
      "execution_count": null,
      "metadata": {
        "id": "Msz9FfTDKsV4"
      },
      "outputs": [],
      "source": [
        "file_path = '/content/drive/MyDrive/ASC/all_courses.txt'\n",
        "\n",
        "# Writing the URLs to the text file\n",
        "with open(file_path, 'w') as file:\n",
        "    for url in filtered_urls:\n",
        "        file.write(url + '\\n')"
      ]
    },
    {
      "cell_type": "markdown",
      "source": [
        "# get reviews from all courses"
      ],
      "metadata": {
        "id": "1nyQC8VGUW32"
      }
    },
    {
      "cell_type": "markdown",
      "source": [
        "After that, we collected all the reviews for each course, and their numbers varied between the courses, and in the end we obtained approximately 478,775 reviews."
      ],
      "metadata": {
        "id": "uXBhQc6TX-4c"
      }
    },
    {
      "cell_type": "code",
      "execution_count": null,
      "metadata": {
        "id": "i2C3zCD98Q4k"
      },
      "outputs": [],
      "source": [
        "import requests\n",
        "from bs4 import BeautifulSoup\n",
        "\n",
        "def get_all_review_texts(title):\n",
        "    review_texts = []\n",
        "    for numberOfPage in range(1, 150):\n",
        "        url = f'{title}/reviews?page={numberOfPage}'\n",
        "        response = requests.get(url)\n",
        "\n",
        "        if response.status_code == 200:\n",
        "            soup = BeautifulSoup(response.text, 'html.parser')\n",
        "            review_elements = soup.select('.reviewText')\n",
        "\n",
        "            if review_elements:\n",
        "                review_texts.extend([element.get_text(strip=True) for element in review_elements])\n",
        "            else:\n",
        "                break\n",
        "        else:\n",
        "            print(f\"Failed to fetch data for {url}. Status code: {response.status_code}\")\n",
        "\n",
        "    return review_texts\n",
        "\n",
        "def get_reviews_from_all_courses(index):\n",
        "    file_path = '/content/drive/MyDrive/ASC/all_courses.txt'\n",
        "    start_line = index - 1000\n",
        "    end_line = index\n",
        "    all_review_texts = []\n",
        "\n",
        "    with open(file_path, 'r') as file:\n",
        "        for i, line in enumerate(file):\n",
        "            if start_line <= i < end_line:\n",
        "                print(i)\n",
        "                all_review_texts.extend(get_all_review_texts(line.strip()))\n",
        "            elif i >= end_line:\n",
        "                break\n",
        "\n",
        "    if all_review_texts:\n",
        "        for i, review_text in enumerate(all_review_texts, start=1):\n",
        "            print(f\"Review {i} Text:\", review_text)\n",
        "    else:\n",
        "        print(\"No review texts found.\")\n",
        "\n",
        "    return all_review_texts\n"
      ]
    },
    {
      "cell_type": "code",
      "execution_count": null,
      "metadata": {
        "id": "DVtybNe6hYB0"
      },
      "outputs": [],
      "source": [
        "all_review_texts = []"
      ]
    },
    {
      "cell_type": "code",
      "execution_count": null,
      "metadata": {
        "colab": {
          "background_save": true
        },
        "id": "iQWYXjnD8hnz"
      },
      "outputs": [],
      "source": [
        "temp = get_reviews_from_all_courses(1000)\n",
        "all_review_texts.extend(temp)"
      ]
    },
    {
      "cell_type": "code",
      "execution_count": null,
      "metadata": {
        "id": "o5erRW-bOqZq"
      },
      "outputs": [],
      "source": [
        "df = pd.DataFrame({'Review Text': all_review_texts})\n",
        "df.to_csv('/content/drive/MyDrive/ASC/0-1000 Courses.csv', index=False)"
      ]
    }
  ],
  "metadata": {
    "colab": {
      "provenance": []
    },
    "kernelspec": {
      "display_name": "Python 3",
      "name": "python3"
    },
    "language_info": {
      "name": "python"
    }
  },
  "nbformat": 4,
  "nbformat_minor": 0
}