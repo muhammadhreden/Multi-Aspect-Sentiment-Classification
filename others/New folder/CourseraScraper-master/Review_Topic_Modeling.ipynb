{
 "cells": [
  {
   "cell_type": "code",
   "execution_count": null,
   "metadata": {},
   "outputs": [],
   "source": [
    "import pandas as pd\n",
    "import langid\n",
    "from os import listdir\n",
    "from os import path\n",
    "from os import walk\n",
    "from sklearn.feature_extraction.text import TfidfVectorizer, CountVectorizer\n",
    "from sklearn.decomposition import NMF, LatentDirichletAllocation"
   ]
  },
  {
   "cell_type": "markdown",
   "metadata": {},
   "source": [
    "## Testing on different review files"
   ]
  },
  {
   "cell_type": "code",
   "execution_count": null,
   "metadata": {},
   "outputs": [],
   "source": [
    "# Reading test input\n",
    "test_files = {\"Arts and Humanities\": \"~/Reviews/Arts_and_Humanities_Reviews/Creative Writing: The Craft of Character- Wesleyan University-reviews.csv\",\n",
    "                  \"Data Science\": \"~/Reviews/Data_Science_Reviews/Big Data Modeling and Management Systems-University of California San Diego-reviews.csv\",\n",
    "                  \"Business\": \"~/Reviews/Business_Reviews/Developing An Entrepreneurial Mindset: First Step Towards Success-Michigan State University-reviews.csv\",\n",
    "                  \"Social Sciences\": \"~/Reviews/Social_Sciences_Reviews/Public Policy Challenges of the 21st Century-University of Virginia-reviews.csv\"\n",
    "                 }\n",
    "\n",
    "rev_df = pd.read_csv(test_files[\"Data Science\"])\n",
    "reviews = list(rev_df[\"Review Text\"])"
   ]
  },
  {
   "cell_type": "code",
   "execution_count": null,
   "metadata": {},
   "outputs": [],
   "source": [
    "# Test code from medium article: https://medium.com/mlreview/topic-modeling-with-scikit-learn-e80d33668730\n",
    "no_features = 1000\n",
    "\n",
    "# NMF is able to use tf-idf\n",
    "tfidf_vectorizer = TfidfVectorizer(max_df=0.95, min_df=2, max_features=no_features, stop_words='english')\n",
    "tfidf = tfidf_vectorizer.fit_transform(reviews)\n",
    "tfidf_feature_names = tfidf_vectorizer.get_feature_names()\n",
    "\n",
    "# LDA can only use raw term counts for LDA because it is a probabilistic graphical model\n",
    "tf_vectorizer = CountVectorizer(max_df=0.95, min_df=2, max_features=no_features, stop_words='english')\n",
    "tf = tf_vectorizer.fit_transform(reviews)\n",
    "tf_feature_names = tf_vectorizer.get_feature_names()\n",
    "\n",
    "no_topics = 20\n",
    "\n",
    "# Run NMF\n",
    "nmf = NMF(n_components=no_topics, random_state=1, alpha=.1, l1_ratio=.5, init='nndsvd').fit(tfidf)\n",
    "\n",
    "# Run LDA\n",
    "lda = LatentDirichletAllocation(n_components=no_topics, max_iter=5, learning_method='online', learning_offset=50.,random_state=0).fit(tf)"
   ]
  },
  {
   "cell_type": "markdown",
   "metadata": {},
   "source": [
    "## Final topic modeling on all reviews"
   ]
  },
  {
   "cell_type": "code",
   "execution_count": null,
   "metadata": {},
   "outputs": [],
   "source": [
    "def lda(revs):\n",
    "    no_features = 1000\n",
    "    \n",
    "    # Filter out reviews that are not in english\n",
    "    reviews = []\n",
    "    for rev in revs:\n",
    "        try:\n",
    "            lang = langid.classify(rev)\n",
    "            if lang[0] == \"en\":\n",
    "                # print(\"Review in Enlish is\", rev)\n",
    "                reviews.append(str(rev))\n",
    "        except Exception as e:\n",
    "            print(e)\n",
    "    \n",
    "    topic_dict = {}\n",
    "    \n",
    "    # We only perform this if the new list of reviews is not empty\n",
    "    if len(reviews) != 0:\n",
    "        try:\n",
    "            # LDA can only use raw term counts for LDA because it is a probabilistic graphical model\n",
    "            tf_vectorizer = CountVectorizer(max_features=no_features, stop_words='english')\n",
    "            tf = tf_vectorizer.fit_transform(reviews)\n",
    "            tf_feature_names = tf_vectorizer.get_feature_names()\n",
    "\n",
    "            no_topics = 10\n",
    "\n",
    "            # Run LDA\n",
    "            lda = LatentDirichletAllocation(n_components=no_topics, max_iter=5, learning_method='online', learning_offset=50.,random_state=0).fit(tf)\n",
    "\n",
    "            for topic_idx, topic in enumerate(lda.components_):\n",
    "                topic_dict[topic_idx] = []\n",
    "                for i in topic.argsort()[:-10 - 1:-1]:\n",
    "                    topic_dict[topic_idx].append(tf_feature_names[i])\n",
    "                    #print(tf_feature_names[i])\n",
    "\n",
    "            #print(topic_dict)\n",
    "        except Exception as e:\n",
    "            print(e)\n",
    "    else:\n",
    "        print(\"No reviews in English!\")\n",
    "    \n",
    "    return topic_dict"
   ]
  },
  {
   "cell_type": "code",
   "execution_count": null,
   "metadata": {},
   "outputs": [],
   "source": [
    "def main(): \n",
    "    dir_path = \"~/Reviews/\"\n",
    "\n",
    "    # Read in CSV files, iterate through all folders\n",
    "    for subdir, dirs, files in walk(dir_path):\n",
    "        for file in files:\n",
    "            filepath = path.join(subdir, file)\n",
    "            if filepath.endswith(\".csv\"):\n",
    "                # print(\"Analyzing: \" + filepath)\n",
    "                rev_df = pd.read_csv(filepath)\n",
    "                revs = rev_df[\"Review Text\"]\n",
    "                \n",
    "                # Doing LDA \n",
    "                results = lda(revs)\n",
    "                \n",
    "                # If we managed to get topics \n",
    "                if results: \n",
    "                    for idx, topics in results.items():\n",
    "                        rev_df[f\"Topic Group {idx}\"] = pd.Series(topics)\n",
    "                    rev_df.to_csv(filepath, index=False)\n",
    "                else:\n",
    "                    rev_df[f\"Topic Group {0}\"] = pd.Series([\"No reviews in English!\"])\n",
    "                        \n",
    "\n",
    "main()"
   ]
  },
  {
   "cell_type": "code",
   "execution_count": null,
   "metadata": {},
   "outputs": [],
   "source": [
    "def display_topics(model, feature_names, no_top_words):\n",
    "    for topic_idx, topic in enumerate(model.components_):\n",
    "        print(\"Topic %d:\" % (topic_idx))\n",
    "        for i in topic.argsort()[:-no_top_words - 1:-1]:\n",
    "        print(\" \".join([feature_names[i]\n",
    "                        for i in topic.argsort()[:-no_top_words - 1:-1]]))\n",
    "\n",
    "no_top_words = 10\n",
    "print(\"NMF Topic Analysis\")\n",
    "display_topics(nmf, tfidf_feature_names, no_top_words)\n",
    "print()\n",
    "print(\"LDA Topic Analysis\")\n",
    "display_topics(lda, tf_feature_names, no_top_words)"
   ]
  },
  {
   "cell_type": "code",
   "execution_count": null,
   "metadata": {},
   "outputs": [],
   "source": []
  }
 ],
 "metadata": {
  "kernelspec": {
   "display_name": "Python 3",
   "language": "python",
   "name": "python3"
  },
  "language_info": {
   "codemirror_mode": {
    "name": "ipython",
    "version": 3
   },
   "file_extension": ".py",
   "mimetype": "text/x-python",
   "name": "python",
   "nbconvert_exporter": "python",
   "pygments_lexer": "ipython3",
   "version": "3.6.5"
  }
 },
 "nbformat": 4,
 "nbformat_minor": 2
}
